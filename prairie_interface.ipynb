{
 "cells": [
  {
   "cell_type": "code",
   "execution_count": 1,
   "metadata": {},
   "outputs": [],
   "source": [
    "import numpy as np\n",
    "import os\n",
    "\n",
    "import win32com.client\n"
   ]
  },
  {
   "cell_type": "code",
   "execution_count": 2,
   "metadata": {},
   "outputs": [],
   "source": [
    "class prairie_interface():\n",
    "    def __init__(self):\n",
    "        '''class to drive PrairieView based on behavioural events '''\n",
    "        # Start PrairieLink\n",
    "        self.pl = win32com.client.Dispatch('PrairieLink.Application')\n",
    "\n",
    "        # Connect to PrairieLInk client\n",
    "        try:\n",
    "            self.pl.Connect()\n",
    "            print('PV connection successful')\n",
    "        except:\n",
    "            print(\"Failed to connect to PV\")\n",
    "            raise\n",
    "            \n",
    "    def load_markpoints(self, f_path):\n",
    "        '''loads a gpl or xml into markpoints, takes argument of full path to file, clears existing points'''\n",
    "        self.pl.SendScriptCommands('-LoadMarkPoints ' + f_path + ' ' + 'True')\n",
    "    \n",
    "    def run_markpoints(self):\n",
    "        self.pl.SendScriptCommands('-MarkPoints')\n",
    "\n",
    "\n",
    "        "
   ]
  },
  {
   "cell_type": "code",
   "execution_count": 3,
   "metadata": {},
   "outputs": [
    {
     "name": "stdout",
     "output_type": "stream",
     "text": [
      "PV connection successful\n"
     ]
    }
   ],
   "source": [
    "if __name__ == \"__main__\":\n",
    "    pi = prairie_interface()"
   ]
  },
  {
   "cell_type": "code",
   "execution_count": 8,
   "metadata": {},
   "outputs": [],
   "source": [
    "gpl_path = r'F:\\Data\\jrowland\\2018-11-30\\blimp_test_002\\blimp_test_002.gpl' \n",
    "pi.load_markpoints(gpl_path)\n",
    "\n",
    "xml_path = r'F:\\Data\\jrowland\\2018-11-30\\blimp_test_002\\blimp_test_002.xml'\n",
    "pi.load_markpoints(xml_path)\n",
    "\n",
    "\n",
    "\n",
    "\n",
    "\n",
    "\n",
    "\n",
    "\n"
   ]
  },
  {
   "cell_type": "code",
   "execution_count": 10,
   "metadata": {},
   "outputs": [],
   "source": [
    "pi.run_markpoints()"
   ]
  },
  {
   "cell_type": "code",
   "execution_count": null,
   "metadata": {},
   "outputs": [],
   "source": []
  }
 ],
 "metadata": {
  "kernelspec": {
   "display_name": "Python 3",
   "language": "python",
   "name": "python3"
  },
  "language_info": {
   "codemirror_mode": {
    "name": "ipython",
    "version": 3
   },
   "file_extension": ".py",
   "mimetype": "text/x-python",
   "name": "python",
   "nbconvert_exporter": "python",
   "pygments_lexer": "ipython3",
   "version": "3.6.5"
  }
 },
 "nbformat": 4,
 "nbformat_minor": 2
}
