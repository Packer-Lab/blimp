{
 "cells": [
  {
   "cell_type": "code",
   "execution_count": 9,
   "metadata": {},
   "outputs": [],
   "source": [
    "import xml.dom.minidom\n",
    "from lxml import etree"
   ]
  },
  {
   "cell_type": "code",
   "execution_count": 10,
   "metadata": {},
   "outputs": [],
   "source": [
    "def parse_gpl(fPath):\n",
    "    '''\n",
    "    parses gpl file to nested list\n",
    "    \n",
    "    input: path to gpl file\n",
    "\n",
    "    output: attrs - a nested list of len(num_gp_points) containing all the attributes of each galvo point\n",
    "    '''\n",
    "\n",
    "    dom1 = xml.dom.minidom.parse(fPath)\n",
    "    gp_list = dom1.getElementsByTagName(\"PVGalvoPoint\")\n",
    "    gp_attrs = [gp.attributes.items() for gp in gp_list]\n",
    "    \n",
    "    return gp_attrs"
   ]
  },
  {
   "cell_type": "code",
   "execution_count": 11,
   "metadata": {},
   "outputs": [],
   "source": [
    "def reverse_gpl(gp_attrs, outPath):\n",
    "    \n",
    "    '''input: nested attrs list from parse_gpl\n",
    "    \n",
    "       output: an xml file compatible with Prairie View saved as the file given in outPath'''\n",
    "\n",
    "    pvgp_list = etree.Element(\"PVGalvoPointList\")\n",
    "\n",
    "    # slightly confusing nested list, loops through each attribute in each point\n",
    "    for gp_attr in gp_attrs:\n",
    "        #creates each pv glavo point child in the x\n",
    "        pvgp = etree.Element(\"PVGalvoPoint\")\n",
    "        \n",
    "        for attr in gp_attr:\n",
    "            #set each attribute of each point \n",
    "            pvgp.set(attr[0], attr[1])\n",
    "\n",
    "        pvgp_list.append(pvgp)\n",
    "\n",
    "    et = etree.ElementTree(pvgp_list)\n",
    "    \n",
    "    et.write(outPath, xml_declaration=True,  encoding=\"utf-8\")"
   ]
  },
  {
   "cell_type": "code",
   "execution_count": 12,
   "metadata": {},
   "outputs": [],
   "source": [
    "fPath = \"F:\\Data\\mloidolt\\Configs\\large_smiley2.gpl\"\n",
    "outPath = \"F:\\Data\\mloidolt\\Configs\\large_smiley_reversed2.gpl\"\n",
    "\n",
    "gp_attrs = parse_gpl(fPath)\n",
    "reverse_gpl(gp_attrs, outPath)"
   ]
  },
  {
   "cell_type": "code",
   "execution_count": null,
   "metadata": {},
   "outputs": [],
   "source": []
  }
 ],
 "metadata": {
  "kernelspec": {
   "display_name": "Python 3",
   "language": "python",
   "name": "python3"
  },
  "language_info": {
   "codemirror_mode": {
    "name": "ipython",
    "version": 3
   },
   "file_extension": ".py",
   "mimetype": "text/x-python",
   "name": "python",
   "nbconvert_exporter": "python",
   "pygments_lexer": "ipython3",
   "version": "3.6.5"
  }
 },
 "nbformat": 4,
 "nbformat_minor": 2
}
