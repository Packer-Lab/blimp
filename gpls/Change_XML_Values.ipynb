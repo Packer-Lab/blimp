{
 "cells": [
  {
   "cell_type": "markdown",
   "metadata": {},
   "source": [
    "# This is an example script to read an xml structure, replicate it in a python object, change values based on xml attribute names, save the change as an xml file on disk"
   ]
  },
  {
   "cell_type": "code",
   "execution_count": 34,
   "metadata": {},
   "outputs": [],
   "source": [
    "from lxml import objectify\n",
    "from lxml import etree"
   ]
  },
  {
   "cell_type": "code",
   "execution_count": null,
   "metadata": {},
   "outputs": [],
   "source": [
    "## this is how you parse an xml file on the disk into a python structure\n",
    "\n",
    "main = etree.parse('/Users/matthiasloidolt/WorkDocuments/PackerLab/Data/'+\n",
    "'2018-08-16/2018-08-16_FastPMT_PowerMeasurements/Grids.xml')\n",
    "\n",
    "## iterate through the list and search for elements whose tags correspond to\n",
    "## a certain string, do it twice to change 2 different values at once\n",
    "for elem in main.iter():\n",
    "    if elem.tag == 'PVGalvoPointElement':\n",
    "        elem.attrib['Duration'] = '850'\n",
    "        print(elem.attrib)\n",
    "    if elem.tag == 'PVMarkPointElement':\n",
    "        elem.attrib['UncagingLaserPower'] = '2'\n",
    "\n",
    "## save the xml structure from python (main) into an xml file on disk\n",
    "main.write('/Users/matthiasloidolt/WorkDocuments/PackerLab/Data/'+\n",
    "'2018-08-16/2018-08-16_FastPMT_PowerMeasurements/GridsChanged.xml')"
   ]
  },
  {
   "cell_type": "code",
   "execution_count": null,
   "metadata": {},
   "outputs": [],
   "source": [
    "## same logic is applicable to PrairieView gpls because they have xml structure\n",
    "\n",
    "### this is how you parse an xml file on the disk into a python structure\n",
    "main = etree.parse('/Users/matthiasloidolt/WorkDocuments/PackerLab/Data/'+\n",
    "'2018-08-16/2018-08-16_FastPMT_PowerMeasurements/Grids.gpl')\n",
    "\n",
    "### iterate through the list and search for elements whose tags correspond to\n",
    "### a certain string,\n",
    "for elem in main.iter():\n",
    "    if elem.tag == 'PVGalvoPointGrid':\n",
    "        elem.attrib['UncagingLaserPower'] = '400'\n",
    "\n",
    "### save the xml structure from python (main) into an xml file on disk\n",
    "main.write('/Users/matthiasloidolt/WorkDocuments/PackerLab/Data/'+\n",
    "'2018-08-16/2018-08-16_FastPMT_PowerMeasurements/GridsChanged.gpl')"
   ]
  },
  {
   "cell_type": "code",
   "execution_count": 54,
   "metadata": {},
   "outputs": [
    {
     "name": "stdout",
     "output_type": "stream",
     "text": [
      "{'InitialDelay': '50', 'InterPointDelay': '750', 'Duration': '850', 'SpiralRevolutions': '0.01', 'AllPointsAtOnce': 'True', 'Points': 'Group 1', 'Indices': '1-128, 257-384'}\n"
     ]
    }
   ],
   "source": [
    "## define the xml structure through a string rather than a file\n",
    "## this is done purely for convenience rather than coding logic or programmatic needs\n",
    "## this xml string is not even used down below\n",
    "\n",
    "xml = \"\"\"<PVSavedMarkPointSeriesElements Iterations=\"1\" IterationDelay=\"0.00\" CalcFunctMap=\"False\">\n",
    "  <PVMarkPointElement Repetitions=\"1\" UncagingLaser=\"Uncaging\" UncagingLaserPower=\"5\" TriggerFrequency=\"None\" TriggerSelection=\"None\" TriggerCount=\"1\" AsyncSyncFrequency=\"None\" VoltageOutputCategoryName=\"None\" VoltageRecCategoryName=\"None\" parameterSet=\"CurrentSettings\">\n",
    "    <PVGalvoPointElement InitialDelay=\"50\" InterPointDelay=\"750\" Duration=\"250\" SpiralRevolutions=\"0.01\" AllPointsAtOnce=\"True\" Points=\"Group 1\" Indices=\"1-128, 257-384\" />\n",
    "  </PVMarkPointElement>\n",
    "</PVSavedMarkPointSeriesElements>\n",
    "\"\"\""
   ]
  },
  {
   "cell_type": "code",
   "execution_count": 55,
   "metadata": {},
   "outputs": [],
   "source": []
  },
  {
   "cell_type": "code",
   "execution_count": null,
   "metadata": {},
   "outputs": [],
   "source": []
  }
 ],
 "metadata": {
  "kernelspec": {
   "display_name": "Python 3",
   "language": "python",
   "name": "python3"
  },
  "language_info": {
   "codemirror_mode": {
    "name": "ipython",
    "version": 3
   },
   "file_extension": ".py",
   "mimetype": "text/x-python",
   "name": "python",
   "nbconvert_exporter": "python",
   "pygments_lexer": "ipython3",
   "version": "3.7.0"
  }
 },
 "nbformat": 4,
 "nbformat_minor": 2
}
