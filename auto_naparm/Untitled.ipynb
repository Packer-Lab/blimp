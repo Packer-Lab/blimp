{
 "cells": [
  {
   "cell_type": "code",
   "execution_count": 4,
   "metadata": {},
   "outputs": [],
   "source": [
    "import sys\n",
    "sys.path.append('/home/jamesrowland/Documents/Code/blimp/')\n",
    "import time\n",
    "from utils.parse_markpoints import ParseMarkpoints"
   ]
  },
  {
   "cell_type": "code",
   "execution_count": 7,
   "metadata": {},
   "outputs": [
    {
     "data": {
      "text/plain": [
       "['-mp 0.066654 1.7396 20 Uncaging 0.317 True 0.14992 3 0.12 0.066654 1.7396 20 Uncaging 0.317 True 0.14992 3 0.12 0.066654 1.7396 20 Uncaging 0.317 True 0.14992 3']"
      ]
     },
     "execution_count": 7,
     "metadata": {},
     "output_type": "execute_result"
    }
   ],
   "source": [
    "t1 = time.time()\n",
    "\n",
    "xml_path = '/home/jamesrowland/Desktop/2019-01-22_nothing_NAPARM_007/2019-01-22_nothing_NAPARM_007.xml'\n",
    "gpl_path = '/home/jamesrowland/Desktop/2019-01-22_nothing_NAPARM_007/2019-01-22_nothing_NAPARM_007.gpl'\n",
    "pmp = ParseMarkpoints(xml_path, gpl_path)\n",
    "pmp.build_strings()\n"
   ]
  },
  {
   "cell_type": "code",
   "execution_count": 8,
   "metadata": {
    "scrolled": true
   },
   "outputs": [],
   "source": [
    "np = '/home/jamesrowland/Desktop/2019-01-22_nothing_NAPARM_007'"
   ]
  },
  {
   "cell_type": "code",
   "execution_count": 14,
   "metadata": {},
   "outputs": [
    {
     "data": {
      "text/plain": [
       "'/home/jamesrowland/Desktop/2019-01-22_nothing_NAPARM_007/2019-01-22_nothing_NAPARM_007.gpl'"
      ]
     },
     "execution_count": 14,
     "metadata": {},
     "output_type": "execute_result"
    }
   ],
   "source": [
    "#get the points file from the naparm path\n",
    "\n",
    "import os\n",
    "for file in os.listdir(np):\n",
    "    if file.endswith('Points.mat'):\n",
    "        points_file = os.path.join(np, file)\n",
    "    if file.endswith('.gpl'):\n",
    "        gpl_file = os.path.join(np, file)\n",
    "\n",
    "\n",
    "\n",
    "\n"
   ]
  },
  {
   "cell_type": "code",
   "execution_count": null,
   "metadata": {
    "collapsed": true
   },
   "outputs": [],
   "source": []
  },
  {
   "cell_type": "code",
   "execution_count": null,
   "metadata": {
    "collapsed": true
   },
   "outputs": [],
   "source": []
  },
  {
   "cell_type": "code",
   "execution_count": null,
   "metadata": {
    "collapsed": true
   },
   "outputs": [],
   "source": []
  },
  {
   "cell_type": "code",
   "execution_count": null,
   "metadata": {
    "collapsed": true
   },
   "outputs": [],
   "source": []
  },
  {
   "cell_type": "code",
   "execution_count": null,
   "metadata": {
    "collapsed": true
   },
   "outputs": [],
   "source": []
  }
 ],
 "metadata": {
  "kernelspec": {
   "display_name": "Python 3",
   "language": "python",
   "name": "python3"
  },
  "language_info": {
   "codemirror_mode": {
    "name": "ipython",
    "version": 3
   },
   "file_extension": ".py",
   "mimetype": "text/x-python",
   "name": "python",
   "nbconvert_exporter": "python",
   "pygments_lexer": "ipython3",
   "version": "3.6.3"
  }
 },
 "nbformat": 4,
 "nbformat_minor": 2
}
