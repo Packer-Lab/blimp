{
 "cells": [
  {
   "cell_type": "code",
   "execution_count": 1,
   "metadata": {},
   "outputs": [],
   "source": [
    "import numpy as np\n",
    "import matplotlib.pyplot as plt\n",
    "import time\n",
    "import os\n",
    "import glob\n",
    "from lxml import objectify\n",
    "from lxml import etree\n",
    "import xml.dom.minidom\n",
    "\n",
    "import sys\n",
    "sys.path.append(r'/home/jamesrowland/Documents/Code/blimp')\n",
    "sys.path.append(r'/home/jamesrowland/Documents/Code/blimp/sdk')\n",
    "\n",
    "from utils import parse_markpoints\n",
    "from prairie_interface import prairie_interface\n",
    "\n",
    "#from SLM_sdk import SLM_sdk"
   ]
  },
  {
   "cell_type": "code",
   "execution_count": 60,
   "metadata": {},
   "outputs": [],
   "source": [
    "class b_52(parse_markpoints, prairie_interface):\n",
    "    \n",
    "    ''' class to automatically run the naparam experiment in naparm_path '''\n",
    "    \n",
    "    def __init__(self, naparm_path, naparm_hz=1000):\n",
    "        \n",
    "        self.naparm_path = naparm_path\n",
    "        self.naparm_hz = naparm_hz\n",
    "        self.get_paths()\n",
    "        self.get_masks()\n",
    "        self.trigger_times(self.trigger_path)\n",
    "        \n",
    "        self.n_trials = self.num_stims / self.num_masks\n",
    "        \n",
    "        #check that the number of trials logic is correct\n",
    "        assert self.n_trials.is_integer() == True and self.n_trials > 0\n",
    "        self.n_trials = int(self.n_trials)\n",
    "        \n",
    "        #init the SLM sdk class\n",
    "        #self.sdk = SLM_sdk()\n",
    "        #self.sdk.SLM_connect()\n",
    "        \n",
    "        #inherits the attributes of classes parse_markpoints and prairie_interface\n",
    "        super(b_52, self).__init__(self.xml_path, self.gpl_path)\n",
    "        \n",
    "        \n",
    "        self.markpoints_strings = self.build_strings()\n",
    "          \n",
    "    def get_paths(self):\n",
    "        \n",
    "        for file in os.listdir(naparm_path):\n",
    "            \n",
    "            file_path = os.path.join(naparm_path, file)\n",
    "\n",
    "            if file == 'ToSLM_AllTrials.dat':\n",
    "                self.trigger_path = file_path\n",
    "            elif file.endswith('.gpl'):\n",
    "                self.gpl_path = file_path\n",
    "            elif file.endswith('.xml'):\n",
    "                self.xml_path = file_path\n",
    "            elif file == 'PhaseMasks':\n",
    "                self.mask_path = file_path\n",
    "                \n",
    "    def get_masks(self):\n",
    "        \n",
    "        self.mask_files = []\n",
    "\n",
    "        for file in os.listdir(self.mask_path):\n",
    "            file_path = os.path.join(self.mask_path, file)\n",
    "            \n",
    "            if file.endswith('.tif') or file.endswith('.tiff'):\n",
    "                self.mask_files.append(file_path)\n",
    "        \n",
    "        # i think this puts the files in the order expected by naparm, but this is a potential error source\n",
    "        self.mask_files.sort()\n",
    "        \n",
    "        self.num_masks = len(self.mask_files)\n",
    "                \n",
    "        \n",
    "    def trigger_times(self, dat_path):\n",
    "    \n",
    "        ''' \n",
    "        function to detect edges signalling trigger onset in dat files\n",
    "        input: dat file path\n",
    "        output: times of trigger onsets in dat file (seconds)\n",
    "\n",
    "        '''\n",
    "\n",
    "        arr = np.fromfile(dat_path, dtype=float)\n",
    "\n",
    "        #edge detect the SLM trigger dat file      \n",
    "        edges = [i for i,j in enumerate(arr) if arr[i-1] == 0 and arr[i] == 5]\n",
    "\n",
    "        # above list doesnt hold for triggers sent at sample 0\n",
    "        if arr[0] == 5:\n",
    "            edges[0] = 0\n",
    "\n",
    "        self.triggers = np.array(edges) / self.naparm_hz\n",
    "        self.num_stims = len(self.triggers)\n",
    "\n",
    "        self.sleep_times = np.diff(self.triggers)\n",
    "\n",
    "\n",
    "    \n",
    "    def drop_naparm(self):\n",
    "        \n",
    "        ''' runs the experiment outlined in the naparm folder\n",
    "            currently only works when the first shot is at time 0\n",
    "        '''\n",
    "        \n",
    "        #repeat the masks paths n_trials times. So can be iterated through on each trial\n",
    "        rep_masks = np.tile(self.mask_files, self.n_trials)\n",
    "        \n",
    "        # get the first mask and pop it out, so it is not iterated through\n",
    "        # this may not work due to needing to load mp\n",
    "        mask1 = rep_masks[0]\n",
    "        rep_masks = np.delete(rep_masks, 0)\n",
    "        \n",
    "        #load the first mask\n",
    "        #sdk.load_mask(mask1)  \n",
    "        time.sleep(1)\n",
    "        \n",
    "        for trial,mask in enumerate(rep_masks):\n",
    "            \n",
    "            #fire markpoints\n",
    "            #this doesnt work yet due to indexing\n",
    "            pl.SendScriptCommands(markpoints_strings[trial])\n",
    "            \n",
    "            #sdk.load_mask(mask)\n",
    "            print('load mask')\n",
    "                \n",
    "            time.sleep(self.sleep_times[trial])\n",
    "        \n",
    "        \n",
    "    \n",
    "\n",
    "       \n",
    "        "
   ]
  },
  {
   "cell_type": "code",
   "execution_count": 62,
   "metadata": {},
   "outputs": [
    {
     "name": "stdout",
     "output_type": "stream",
     "text": [
      "failed to connect to PV\n",
      "load mask\n",
      "load mask\n",
      "load mask\n",
      "load mask\n",
      "load mask\n",
      "load mask\n",
      "load mask\n",
      "load mask\n",
      "load mask\n",
      "load mask\n",
      "load mask\n",
      "load mask\n",
      "load mask\n",
      "load mask\n",
      "load mask\n",
      "load mask\n",
      "load mask\n",
      "load mask\n",
      "load mask\n",
      "load mask\n",
      "load mask\n",
      "load mask\n",
      "load mask\n",
      "load mask\n",
      "load mask\n",
      "load mask\n",
      "load mask\n",
      "load mask\n",
      "load mask\n"
     ]
    },
    {
     "data": {
      "text/plain": [
       "30.05355453491211"
      ]
     },
     "execution_count": 62,
     "metadata": {},
     "output_type": "execute_result"
    }
   ],
   "source": [
    "t1 = time.time()\n",
    "\n",
    "naparm_path = r'/home/jamesrowland/Desktop/2019-01-16_plasticSlide_NAPARM_001'\n",
    "anp = b_52(naparm_path)\n",
    "anp.drop_naparm()\n",
    "\n",
    "t2 = time.time()\n",
    "\n",
    "t2 - t1"
   ]
  },
  {
   "cell_type": "code",
   "execution_count": 45,
   "metadata": {},
   "outputs": [
    {
     "ename": "AttributeError",
     "evalue": "'numpy.ndarray' object has no attribute 'pop'",
     "output_type": "error",
     "traceback": [
      "\u001b[0;31m---------------------------------------------------------------------------\u001b[0m",
      "\u001b[0;31mAttributeError\u001b[0m                            Traceback (most recent call last)",
      "\u001b[0;32m<ipython-input-45-1de6f0601f64>\u001b[0m in \u001b[0;36m<module>\u001b[0;34m()\u001b[0m\n\u001b[0;32m----> 1\u001b[0;31m \u001b[0mm\u001b[0m \u001b[0;34m=\u001b[0m \u001b[0mmf\u001b[0m\u001b[0;34m.\u001b[0m\u001b[0mpop\u001b[0m\u001b[0;34m(\u001b[0m\u001b[0;34m)\u001b[0m\u001b[0;34m\u001b[0m\u001b[0m\n\u001b[0m",
      "\u001b[0;31mAttributeError\u001b[0m: 'numpy.ndarray' object has no attribute 'pop'"
     ]
    }
   ],
   "source": [
    "m = mf.pop()"
   ]
  },
  {
   "cell_type": "code",
   "execution_count": 44,
   "metadata": {},
   "outputs": [
    {
     "data": {
      "text/plain": [
       "29"
      ]
     },
     "execution_count": 44,
     "metadata": {},
     "output_type": "execute_result"
    }
   ],
   "source": [
    "len(anp.sleep_times)"
   ]
  }
 ],
 "metadata": {
  "kernelspec": {
   "display_name": "Python 3",
   "language": "python",
   "name": "python3"
  },
  "language_info": {
   "codemirror_mode": {
    "name": "ipython",
    "version": 3
   },
   "file_extension": ".py",
   "mimetype": "text/x-python",
   "name": "python",
   "nbconvert_exporter": "python",
   "pygments_lexer": "ipython3",
   "version": "3.6.3"
  }
 },
 "nbformat": 4,
 "nbformat_minor": 2
}
