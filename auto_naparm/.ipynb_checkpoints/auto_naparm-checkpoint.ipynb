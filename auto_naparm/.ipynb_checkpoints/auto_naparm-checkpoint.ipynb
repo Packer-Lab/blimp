{
 "cells": [
  {
   "cell_type": "code",
   "execution_count": 1,
   "metadata": {},
   "outputs": [],
   "source": [
    "import numpy as np\n",
    "import matplotlib.pyplot as plt\n",
    "import time\n",
    "import sys\n",
    "import os\n",
    "import glob\n",
    "sys.path.append(r'C:\\Users\\User\\Documents\\Code\\blimp')\n",
    "sys.path.append(r'C:\\Users\\User\\Documents\\Code\\blimp\\sdk')\n",
    "from prairie_interface import prairie_interface\n",
    "from SLM_sdk import SLM_sdk"
   ]
  },
  {
   "cell_type": "code",
   "execution_count": 2,
   "metadata": {},
   "outputs": [],
   "source": [
    "#output Hz of Naparm\n",
    "global naparm_hz #pre class\n",
    "naparm_hz = 1000"
   ]
  },
  {
   "cell_type": "code",
   "execution_count": 3,
   "metadata": {},
   "outputs": [],
   "source": [
    "naparm_path = r'F:\\Data\\rlees\\2018-12-21\\NAPARM\\2018-12-21_RL006_NAPARM_008'"
   ]
  },
  {
   "cell_type": "code",
   "execution_count": 17,
   "metadata": {},
   "outputs": [],
   "source": [
    "for file in os.listdir(naparm_path):\n",
    "    file_path = os.path.join(naparm_path, file)\n",
    "    \n",
    "    if file.endswith('SLMAllTrials.dat'):\n",
    "        trigger_path = file_path\n",
    "    elif file.endswith('.gpl'):\n",
    "        gpl_path = file_path\n",
    "    elif file.endswith('.xml'):\n",
    "        xml_path = file_path\n",
    "    elif file == 'PhaseMasks':\n",
    "        mask_path = file_path\n",
    "    \n",
    "\n",
    "mask_files = []\n",
    "\n",
    "for file in os.listdir(mask_path):\n",
    "    file_path = os.path.join(mask_path, file)\n",
    "    if file.endswith('.tif'):\n",
    "        mask_files.append(file_path)\n",
    "  "
   ]
  },
  {
   "cell_type": "code",
   "execution_count": 5,
   "metadata": {},
   "outputs": [],
   "source": [
    "def trigger_times(dat_path):\n",
    "    \n",
    "    ''' function to detect edges signalling trigger onset in dat files\n",
    "        input: dat file path\n",
    "        output: times of trigger onsets in dat file (seconds)\n",
    "        \n",
    "    '''\n",
    "    \n",
    "    arr = np.fromfile(dat_path, dtype=float)\n",
    "    \n",
    "    #edge detect the SLM trigger dat file      \n",
    "    edges = [i for i,j in enumerate(arr) if arr[i-1] == 0 and arr[i] == 5]\n",
    "\n",
    "    # above list doesnt hold for triggers sent at sample 0\n",
    "    if arr[0] == 5:\n",
    "        edges[0] = 0\n",
    "            \n",
    "    times = np.array(edges) / naparm_hz\n",
    "    \n",
    "    return times\n",
    "        "
   ]
  },
  {
   "cell_type": "code",
   "execution_count": 6,
   "metadata": {},
   "outputs": [],
   "source": [
    "triggers = trigger_times(trigger_path)"
   ]
  },
  {
   "cell_type": "code",
   "execution_count": 7,
   "metadata": {},
   "outputs": [
    {
     "name": "stdout",
     "output_type": "stream",
     "text": [
      "PV connection successful\n"
     ]
    }
   ],
   "source": [
    "pi = prairie_interface()"
   ]
  },
  {
   "cell_type": "code",
   "execution_count": 8,
   "metadata": {},
   "outputs": [],
   "source": [
    "pi.load_markpoints(gpl_path)\n",
    "pi.load_markpoints(xml_path)"
   ]
  },
  {
   "cell_type": "code",
   "execution_count": 9,
   "metadata": {},
   "outputs": [
    {
     "name": "stdout",
     "output_type": "stream",
     "text": [
      "SLM connection established\n"
     ]
    }
   ],
   "source": [
    "sdk = SLM_sdk()\n",
    "sdk.SLM_connect()"
   ]
  },
  {
   "cell_type": "code",
   "execution_count": 46,
   "metadata": {},
   "outputs": [],
   "source": [
    "num_masks = len(mask_files)\n",
    "num_stims = len(triggers)\n",
    "n_trials = num_stims / num_masks\n",
    "assert n_trials.is_integer() == True and n_trials > 0\n"
   ]
  },
  {
   "cell_type": "code",
   "execution_count": 45,
   "metadata": {},
   "outputs": [
    {
     "data": {
      "text/plain": [
       "array([1., 1., 1., 1., 1., 1., 1., 1., 1., 1., 1., 1., 1., 1., 1., 1., 1.,\n",
       "       1., 1., 1., 1., 1., 1., 1., 1., 1., 1., 1., 1., 1., 1., 1., 1., 1.,\n",
       "       1., 1., 1., 1., 1., 1., 1., 1., 1., 1., 1., 1., 1., 1., 1., 1., 1.,\n",
       "       1., 1., 1., 1., 1., 1., 1., 1., 1., 1., 1., 1., 1., 1., 1., 1., 1.,\n",
       "       1., 1., 1., 1., 1., 1., 1., 1., 1., 1., 1., 1., 1., 1., 1., 1., 1.,\n",
       "       1., 1., 1., 1., 1., 1., 1., 1., 1., 1., 1., 1., 1., 1., 1., 1., 1.,\n",
       "       1., 1., 1., 1., 1., 1., 1., 1., 1., 1., 1., 1., 1., 1., 1., 1., 1.,\n",
       "       1., 1., 1., 1., 1., 1., 1., 1., 1., 1., 1., 1., 1., 1., 1., 1., 1.,\n",
       "       1., 1., 1., 1., 1., 1., 1., 1., 1., 1., 1., 1., 1., 1., 1., 1., 1.,\n",
       "       1., 1., 1., 1., 1., 1., 1., 1., 1., 1., 1., 1., 1., 1., 1., 1., 1.,\n",
       "       1., 1., 1., 1., 1., 1., 1., 1., 1., 1., 1., 1., 1., 1., 1., 1., 1.,\n",
       "       1., 1., 1., 1., 1., 1., 1., 1., 1., 1., 1., 1.])"
      ]
     },
     "execution_count": 45,
     "metadata": {},
     "output_type": "execute_result"
    }
   ],
   "source": [
    "sleep_times = np.diff(triggers)"
   ]
  },
  {
   "cell_type": "code",
   "execution_count": 36,
   "metadata": {},
   "outputs": [
    {
     "data": {
      "text/plain": [
       "True"
      ]
     },
     "execution_count": 36,
     "metadata": {},
     "output_type": "execute_result"
    }
   ],
   "source": [
    "\n",
    "trial_count = 0\n",
    "for trial in range(n_trials):\n",
    "    sdk.load_mask()\n",
    "    "
   ]
  }
 ],
 "metadata": {
  "kernelspec": {
   "display_name": "Python 3",
   "language": "python",
   "name": "python3"
  },
  "language_info": {
   "codemirror_mode": {
    "name": "ipython",
    "version": 3
   },
   "file_extension": ".py",
   "mimetype": "text/x-python",
   "name": "python",
   "nbconvert_exporter": "python",
   "pygments_lexer": "ipython3",
   "version": "3.6.5"
  }
 },
 "nbformat": 4,
 "nbformat_minor": 2
}
