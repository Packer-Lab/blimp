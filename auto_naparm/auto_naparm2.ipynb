{
 "cells": [
  {
   "cell_type": "code",
   "execution_count": 1,
   "metadata": {},
   "outputs": [],
   "source": [
    "from lxml import objectify\n",
    "from lxml import etree\n",
    "import numpy as np\n",
    "from auto_naparm import auto_naparm\n",
    "import copy"
   ]
  },
  {
   "cell_type": "code",
   "execution_count": 2,
   "metadata": {},
   "outputs": [
    {
     "name": "stdout",
     "output_type": "stream",
     "text": [
      "['455.99999999999994', '455.99999999999994', '455.99999999999994', '455.99999999999994']\n",
      "SLM connection established\n",
      "First mask loaded\n",
      "Ready to trigger\n",
      "PV connection successful\n"
     ]
    }
   ],
   "source": [
    "naparm_path = r\"F:\\Data\\jrowland\\2019-04-05\\naparm\\2019-04-05_s-059_NAPARM_002\"\n",
    "\n",
    "an = auto_naparm(naparm_path=naparm_path)"
   ]
  },
  {
   "cell_type": "code",
   "execution_count": 3,
   "metadata": {},
   "outputs": [],
   "source": [
    "inter_group_interval = an.inter_group_interval\n",
    "\n",
    "spiral_duration = an.durations[0] \n",
    "spiral_repetitions = an.repetitions[0]\n",
    "stim_length = int(spiral_duration) * int(spiral_repetitions)"
   ]
  },
  {
   "cell_type": "code",
   "execution_count": 4,
   "metadata": {},
   "outputs": [
    {
     "name": "stdout",
     "output_type": "stream",
     "text": [
      "b'<PVMarkPointElement Repetitions=\"1\" UncagingLaser=\"Uncaging\" UncagingLaserPower=\"0\" TriggerFrequency=\"None\" TriggerSelection=\"None\" TriggerCount=\"1\" AsyncSyncFrequency=\"None\" VoltageOutputCategoryName=\"None\" VoltageRecCategoryName=\"None\" parameterSet=\"CurrentSettings\"><PVGalvoPointElement InitialDelay=\"0\" InterPointDelay=\"0\" Duration=\"1\" SpiralRevolutions=\"1\" Points=\"Point 1\" Indices=\"1\"/></PVMarkPointElement>'\n",
      "b'<PVMarkPointElement Repetitions=\"25\" UncagingLaser=\"Uncaging\" UncagingLaserPower=\"2.28\" TriggerFrequency=\"Never\" TriggerSelection=\"PFI1\" TriggerCount=\"1\" AsyncSyncFrequency=\"FirstRepetition\" VoltageOutputCategoryName=\"JR\" VoltageOutputExperimentName=\"5ms\" VoltageRecCategoryName=\"None\" parameterSet=\"CurrentSettings\"><PVGalvoPointElement InitialDelay=\"750.0\" InterPointDelay=\"0\" Duration=\"10\" SpiralRevolutions=\"3\" Points=\"Point 1\" Indices=\"1\"/></PVMarkPointElement>'\n",
      "b'<PVMarkPointElement Repetitions=\"25\" UncagingLaser=\"Uncaging\" UncagingLaserPower=\"2.28\" TriggerFrequency=\"Never\" TriggerSelection=\"PFI1\" TriggerCount=\"1\" AsyncSyncFrequency=\"FirstRepetition\" VoltageOutputCategoryName=\"JR\" VoltageOutputExperimentName=\"5ms\" VoltageRecCategoryName=\"None\" parameterSet=\"CurrentSettings\"><PVGalvoPointElement InitialDelay=\"750.0\" InterPointDelay=\"0\" Duration=\"10\" SpiralRevolutions=\"3\" Points=\"Point 2\" Indices=\"2\"/></PVMarkPointElement>'\n",
      "b'<PVMarkPointElement Repetitions=\"25\" UncagingLaser=\"Uncaging\" UncagingLaserPower=\"2.28\" TriggerFrequency=\"Never\" TriggerSelection=\"PFI1\" TriggerCount=\"1\" AsyncSyncFrequency=\"FirstRepetition\" VoltageOutputCategoryName=\"JR\" VoltageOutputExperimentName=\"5ms\" VoltageRecCategoryName=\"None\" parameterSet=\"CurrentSettings\"><PVGalvoPointElement InitialDelay=\"750.0\" InterPointDelay=\"0\" Duration=\"10\" SpiralRevolutions=\"3\" Points=\"Point 3\" Indices=\"3\"/></PVMarkPointElement>'\n",
      "b'<PVMarkPointElement Repetitions=\"25\" UncagingLaser=\"Uncaging\" UncagingLaserPower=\"2.28\" TriggerFrequency=\"Never\" TriggerSelection=\"PFI1\" TriggerCount=\"1\" AsyncSyncFrequency=\"FirstRepetition\" VoltageOutputCategoryName=\"JR\" VoltageOutputExperimentName=\"5ms\" VoltageRecCategoryName=\"None\" parameterSet=\"CurrentSettings\"><PVGalvoPointElement InitialDelay=\"750.0\" InterPointDelay=\"0\" Duration=\"10\" SpiralRevolutions=\"3\" Points=\"Point 4\" Indices=\"4\"/></PVMarkPointElement>'\n"
     ]
    }
   ],
   "source": [
    "xml_path = r\"F:\\Data\\jrowland\\2019-04-05\\naparm\\2019-04-05_s-059_NAPARM_002\\2019-04-05_s-059_NAPARM_002.xml\"\n",
    "tree = etree.parse(xml_path)\n",
    "root= tree.getroot()\n",
    "markpoint_elems = root.findall('PVMarkPointElement')\n",
    "\n",
    "\n",
    "for i,point in enumerate(markpoint_elems):\n",
    "    \n",
    "    #dont change the dummy\n",
    "    if point.attrib['UncagingLaserPower'] == '0': \n",
    "        mute_point = False\n",
    "    else:\n",
    "        mute_point = True\n",
    "\n",
    "    if mute_point:       \n",
    "        point.attrib['TriggerFrequency'] = 'Never'\n",
    "        galvo_elem_point = next(node for node in point.getiterator() if node.tag == 'PVGalvoPointElement')\n",
    "        galvo_elem_point.attrib['InitialDelay'] = str(inter_group_interval - stim_length)\n",
    "    \n",
    "    \n",
    "    slm_trigger = copy.deepcopy(point)\n",
    "    \n",
    "    slm_trigger.attrib['UncagingLaser'] = 'Trigger'\n",
    "    slm_trigger.attrib['UncagingLaserPower'] = '5' #this is 1000 PV in weird xml speak\n",
    "    slm_trigger.attrib['AsyncSyncFrequency'] = 'None'\n",
    "    slm_trigger.attrib['Repetitions'] = '1'\n",
    "\n",
    "    galvo_elem_slm = next(node for node in slm_trigger.getiterator() if node.tag == 'PVGalvoPointElement')\n",
    "\n",
    "    galvo_elem_slm.attrib['InitialDelay'] = '0'\n",
    "    galvo_elem_slm.attrib['Duration'] = '1'\n",
    "    galvo_elem_slm.attrib['SpiralRevolutions'] = '1'\n",
    "    \n",
    "    \n",
    "    \n",
    "    print(etree.tostring(point))\n",
    "    \n",
    "    if i != len(markpoint_elems) - 1:\n",
    "        parent = point.getparent()\n",
    "        parent.insert(parent.index(point)+1, slm_trigger)\n",
    "    \n",
    "    \n",
    "\n",
    "        \n",
    "tree.write(r\"F:\\Data\\jrowland\\2019-04-05\\naparm\\2019-04-05_s-059_NAPARM_001\\altered.xml\")\n",
    "        \n",
    "        \n",
    "    \n"
   ]
  },
  {
   "cell_type": "code",
   "execution_count": 5,
   "metadata": {},
   "outputs": [
    {
     "data": {
      "text/plain": [
       "1"
      ]
     },
     "execution_count": 5,
     "metadata": {},
     "output_type": "execute_result"
    }
   ],
   "source": [
    "1"
   ]
  },
  {
   "cell_type": "code",
   "execution_count": null,
   "metadata": {},
   "outputs": [],
   "source": []
  },
  {
   "cell_type": "code",
   "execution_count": null,
   "metadata": {},
   "outputs": [],
   "source": []
  },
  {
   "cell_type": "code",
   "execution_count": null,
   "metadata": {},
   "outputs": [],
   "source": []
  },
  {
   "cell_type": "code",
   "execution_count": null,
   "metadata": {},
   "outputs": [],
   "source": []
  },
  {
   "cell_type": "code",
   "execution_count": null,
   "metadata": {},
   "outputs": [],
   "source": []
  },
  {
   "cell_type": "code",
   "execution_count": null,
   "metadata": {},
   "outputs": [],
   "source": []
  },
  {
   "cell_type": "code",
   "execution_count": null,
   "metadata": {},
   "outputs": [],
   "source": [
    "\n"
   ]
  },
  {
   "cell_type": "code",
   "execution_count": null,
   "metadata": {},
   "outputs": [],
   "source": []
  }
 ],
 "metadata": {
  "kernelspec": {
   "display_name": "Python 3",
   "language": "python",
   "name": "python3"
  },
  "language_info": {
   "codemirror_mode": {
    "name": "ipython",
    "version": 3
   },
   "file_extension": ".py",
   "mimetype": "text/x-python",
   "name": "python",
   "nbconvert_exporter": "python",
   "pygments_lexer": "ipython3",
   "version": "3.6.5"
  }
 },
 "nbformat": 4,
 "nbformat_minor": 2
}
