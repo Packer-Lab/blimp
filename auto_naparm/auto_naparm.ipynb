{
 "cells": [
  {
   "cell_type": "code",
   "execution_count": 45,
   "metadata": {},
   "outputs": [],
   "source": [
    "import numpy as np\n",
    "import matplotlib.pyplot as plt\n",
    "import time\n",
    "import os\n",
    "import glob\n",
    "from lxml import objectify\n",
    "from lxml import etree\n",
    "import xml.dom.minidom\n",
    "\n",
    "import sys\n",
    "sys.path.append(r'C:\\Users\\User\\Documents\\Code\\blimp')\n",
    "sys.path.append(r'C:\\Users\\User\\Documents\\Code\\blimp\\sdk')\n",
    "\n",
    "#import blimp modules\n",
    "from prairie_interface import prairie_interface\n",
    "from SLM_sdk import SLM_sdk"
   ]
  },
  {
   "cell_type": "code",
   "execution_count": 2,
   "metadata": {},
   "outputs": [],
   "source": [
    "#output Hz of Naparm\n",
    "global naparm_hz #pre class\n",
    "naparm_hz = 1000"
   ]
  },
  {
   "cell_type": "code",
   "execution_count": 3,
   "metadata": {},
   "outputs": [],
   "source": [
    "naparm_path = r'F:\\Data\\rlees\\2018-12-21\\NAPARM\\2018-12-21_RL006_NAPARM_008'"
   ]
  },
  {
   "cell_type": "code",
   "execution_count": 4,
   "metadata": {},
   "outputs": [],
   "source": [
    "for file in os.listdir(naparm_path):\n",
    "    file_path = os.path.join(naparm_path, file)\n",
    "    \n",
    "    if file.endswith('SLMAllTrials.dat'):\n",
    "        trigger_path = file_path\n",
    "    elif file.endswith('.gpl'):\n",
    "        gpl_path = file_path\n",
    "    elif file.endswith('.xml'):\n",
    "        xml_path = file_path\n",
    "    elif file == 'PhaseMasks':\n",
    "        mask_path = file_path\n",
    "    \n",
    "\n",
    "mask_files = []\n",
    "\n",
    "for file in os.listdir(mask_path):\n",
    "    file_path = os.path.join(mask_path, file)\n",
    "    if file.endswith('.tif'):\n",
    "        mask_files.append(file_path)\n",
    "  "
   ]
  },
  {
   "cell_type": "code",
   "execution_count": 5,
   "metadata": {},
   "outputs": [],
   "source": [
    "def trigger_times(dat_path):\n",
    "    \n",
    "    ''' function to detect edges signalling trigger onset in dat files\n",
    "        input: dat file path\n",
    "        output: times of trigger onsets in dat file (seconds)\n",
    "        \n",
    "    '''\n",
    "    \n",
    "    arr = np.fromfile(dat_path, dtype=float)\n",
    "    \n",
    "    #edge detect the SLM trigger dat file      \n",
    "    edges = [i for i,j in enumerate(arr) if arr[i-1] == 0 and arr[i] == 5]\n",
    "\n",
    "    # above list doesnt hold for triggers sent at sample 0\n",
    "    if arr[0] == 5:\n",
    "        edges[0] = 0\n",
    "            \n",
    "    times = np.array(edges) / naparm_hz\n",
    "    \n",
    "    return times\n",
    "        "
   ]
  },
  {
   "cell_type": "code",
   "execution_count": 6,
   "metadata": {},
   "outputs": [],
   "source": [
    "triggers = trigger_times(trigger_path)"
   ]
  },
  {
   "cell_type": "code",
   "execution_count": 7,
   "metadata": {},
   "outputs": [
    {
     "name": "stdout",
     "output_type": "stream",
     "text": [
      "PV connection successful\n"
     ]
    }
   ],
   "source": [
    "pi = prairie_interface()"
   ]
  },
  {
   "cell_type": "code",
   "execution_count": 8,
   "metadata": {},
   "outputs": [],
   "source": [
    "pi.load_markpoints(gpl_path)\n",
    "pi.load_markpoints(xml_path)"
   ]
  },
  {
   "cell_type": "code",
   "execution_count": 9,
   "metadata": {},
   "outputs": [
    {
     "name": "stdout",
     "output_type": "stream",
     "text": [
      "SLM connection established\n"
     ]
    }
   ],
   "source": [
    "sdk = SLM_sdk()\n",
    "sdk.SLM_connect()"
   ]
  },
  {
   "cell_type": "code",
   "execution_count": 10,
   "metadata": {},
   "outputs": [],
   "source": [
    "num_masks = len(mask_files)\n",
    "num_stims = len(triggers)\n",
    "n_trials = num_stims / num_masks\n",
    "assert n_trials.is_integer() == True and n_trials > 0\n",
    "n_trials = int(n_trials)"
   ]
  },
  {
   "cell_type": "code",
   "execution_count": 71,
   "metadata": {},
   "outputs": [],
   "source": [
    "#extract requried information from xlm into python lists\n",
    "\n",
    "xml = etree.parse(xml_path)\n",
    "\n",
    "laser_powers = []\n",
    "spiral_revolutions = []\n",
    "durations = []\n",
    "delays = []\n",
    "\n",
    "for elem in xml.iter():\n",
    "\n",
    "    if elem.tag == 'PVMarkPointElement':\n",
    "        laser_powers.append(elem.attrib['UncagingLaserPower'])\n",
    "      \n",
    "    elif elem.tag == 'PVGalvoPointElement':\n",
    "        durations.append(elem.attrib['Duration'])\n",
    "        spiral_revolutions.append(elem.attrib['SpiralRevolutions'])\n",
    "        delays.append(elem.attrib['InitialDelay'])\n"
   ]
  },
  {
   "cell_type": "code",
   "execution_count": 72,
   "metadata": {},
   "outputs": [],
   "source": [
    "gpl = etree.parse(gpl_path)\n",
    "\n",
    "Xs = []\n",
    "Ys = []\n",
    "is_spirals = []\n",
    "spiral_sizes = []\n",
    "\n",
    "\n",
    "for elem in gpl.iter():\n",
    "    \n",
    "    if elem.tag == 'PVGalvoPoint':\n",
    "        Xs.append(elem.attrib['X'])\n",
    "        Ys.append(elem.attrib['Y'])\n",
    "        is_spirals.append(elem.attrib['IsSpiral'])\n",
    "        spiral_sizes.append(elem.attrib['SpiralSize'])\n"
   ]
  },
  {
   "cell_type": "code",
   "execution_count": null,
   "metadata": {},
   "outputs": [],
   "source": [
    "-MarkPoints (-mp) \"X Position (% of image 0-1, where 0 is the left side)\" \"Y Position (% of image 0-1, where 0 is the top of the image)\" \"Duration (ms)\" \"Laser Name (as it appears in the UI)\" \"Laser Power (same range as UI controls, supports 2P laser calibration)\" [\"Is Spiral (true/false)\" \"Spiral Size (% of image 0-1 in the x dimension, spiral will be forced to be a circle)\" \"Spiral Revolutions\"] [\"Trigger (None/PFI0/PFI1/PFI8/TrigIn)\" [\"TriggerCount (only used when Trigger is passed as PFI8)\"]] [\"Delay (ms)\" \"repeat all parameters again to mark another location\"]"
   ]
  },
  {
   "cell_type": "code",
   "execution_count": 97,
   "metadata": {},
   "outputs": [
    {
     "data": {
      "text/plain": [
       "True"
      ]
     },
     "execution_count": 97,
     "metadata": {},
     "output_type": "execute_result"
    }
   ],
   "source": [
    "X = 0.8\n",
    "Y = 1\n",
    "duration = 5\n",
    "laser_name = 'Uncaging'\n",
    "laser_power = 1\n",
    "is_spiral = 'true'\n",
    "spiral_size = 10\n",
    "spiral_revolutions = 3\n",
    "trigger = 'None'\n",
    "delay = 10\n",
    "\n",
    "\n",
    "mp_str = '-MarkPoints ' + str(X) + ' ' + str(Y) + ' ' + str(duration) + ' ' + laser_name + ' ' + str(laser_power) +  ' ' + is_spiral + ' ' + str(spiral_size) + ' ' + str(spiral_revolutions) + ' ' + trigger + ' ' + str(delay)\n",
    "pi.pl.SendScriptCommands(mp_str)"
   ]
  },
  {
   "cell_type": "code",
   "execution_count": 90,
   "metadata": {},
   "outputs": [
    {
     "data": {
      "text/plain": [
       "'-MarkPoints 10 1 5 Uncaging 1 true 10 3 None 10'"
      ]
     },
     "execution_count": 90,
     "metadata": {},
     "output_type": "execute_result"
    }
   ],
   "source": [
    "mp_str"
   ]
  },
  {
   "cell_type": "code",
   "execution_count": 81,
   "metadata": {},
   "outputs": [
    {
     "data": {
      "text/plain": [
       "'-MarkPoints X Position 1 Y Position 0.5 Duration 5 Laser Name Uncaging Laser Power 1 Is Spiral true Spiral Size 10 Spiral Revolutions 3 Trigger None 5'"
      ]
     },
     "execution_count": 81,
     "metadata": {},
     "output_type": "execute_result"
    }
   ],
   "source": [
    "mp_str"
   ]
  },
  {
   "cell_type": "code",
   "execution_count": 21,
   "metadata": {},
   "outputs": [
    {
     "data": {
      "text/plain": [
       "'F:\\\\Data\\\\rlees\\\\2018-12-21\\\\NAPARM\\\\2018-12-21_RL006_NAPARM_008\\\\2018-12-21_RL006_NAPARM_008.xml'"
      ]
     },
     "execution_count": 21,
     "metadata": {},
     "output_type": "execute_result"
    }
   ],
   "source": [
    "sleep_times = np.diff(triggers)\n",
    "xml_path\n",
    "\n",
    "\n",
    "\n",
    "\n",
    "\n"
   ]
  },
  {
   "cell_type": "code",
   "execution_count": 74,
   "metadata": {},
   "outputs": [
    {
     "data": {
      "text/plain": [
       "1"
      ]
     },
     "execution_count": 74,
     "metadata": {},
     "output_type": "execute_result"
    }
   ],
   "source": []
  },
  {
   "cell_type": "code",
   "execution_count": 12,
   "metadata": {},
   "outputs": [
    {
     "name": "stderr",
     "output_type": "stream",
     "text": [
      "C:\\Users\\User\\Anaconda3\\lib\\site-packages\\imageio\\plugins\\_tifffile.py:7285: UserWarning: module 'imageio.plugins._tifffile' has no attribute 'decode_packbits'\n",
      "  Functionality might be degraded or be slow.\n",
      "\n",
      "  warnings.warn(\"%s%s\" % (e, warn))\n",
      "C:\\Users\\User\\Anaconda3\\lib\\site-packages\\imageio\\plugins\\_tifffile.py:7285: UserWarning: module 'imageio.plugins._tifffile' has no attribute 'decode_lzw'\n",
      "  Functionality might be degraded or be slow.\n",
      "\n",
      "  warnings.warn(\"%s%s\" % (e, warn))\n",
      "C:\\Users\\User\\Anaconda3\\lib\\site-packages\\imageio\\plugins\\_tifffile.py:7285: UserWarning: module 'imageio.plugins._tifffile' has no attribute 'unpack_ints'\n",
      "  Functionality might be degraded or be slow.\n",
      "\n",
      "  warnings.warn(\"%s%s\" % (e, warn))\n",
      "C:\\Users\\User\\Anaconda3\\lib\\site-packages\\imageio\\plugins\\_tifffile.py:7285: UserWarning: module 'imageio.plugins._tifffile' has no attribute 'reverse_bitorder'\n",
      "  Functionality might be degraded or be slow.\n",
      "\n",
      "  warnings.warn(\"%s%s\" % (e, warn))\n"
     ]
    }
   ],
   "source": [
    "trial_count = 0\n",
    "for trial in range(n_trials):\n",
    "    for mask in mask_files:    \n",
    "        sdk.load_mask(mask)\n",
    "        time.sleep(sleep_times[trial_count])\n",
    "    "
   ]
  }
 ],
 "metadata": {
  "kernelspec": {
   "display_name": "Python 3",
   "language": "python",
   "name": "python3"
  },
  "language_info": {
   "codemirror_mode": {
    "name": "ipython",
    "version": 3
   },
   "file_extension": ".py",
   "mimetype": "text/x-python",
   "name": "python",
   "nbconvert_exporter": "python",
   "pygments_lexer": "ipython3",
   "version": "3.6.5"
  }
 },
 "nbformat": 4,
 "nbformat_minor": 2
}
