{
 "cells": [
  {
   "cell_type": "code",
   "execution_count": 11,
   "metadata": {},
   "outputs": [],
   "source": [
    "import time\n",
    "import os\n",
    "import sys\n",
    "sys.path.append(r'C:\\Users\\Curtis-E-Bear\\Documents\\Code\\blimp')\n",
    "from utils.parse_markpoints import ParseMarkpoints\n",
    "from utils import mat_loader as ml\n",
    "import scipy.io\n",
    "import h5py\n",
    "import numpy as np\n",
    "import imageio\n"
   ]
  },
  {
   "cell_type": "code",
   "execution_count": 2,
   "metadata": {},
   "outputs": [],
   "source": [
    "naparm_path = r\"C:\\Users\\Curtis-E-Bear\\Desktop\\2019-01-22_nothing_NAPARM_007\""
   ]
  },
  {
   "cell_type": "code",
   "execution_count": 12,
   "metadata": {},
   "outputs": [],
   "source": [
    "for file in os.listdir(naparm_path):\n",
    "    if file.endswith('.xml'):\n",
    "        xml_path= os.path.join(naparm_path, file)\n",
    "    elif file.endswith('gpl'):\n",
    "        gpl_path = os.path.join(naparm_path, file)\n",
    "    elif file.endswith('Points.mat'):\n",
    "        points_path = os.path.join(naparm_path, file)\n",
    "       \n",
    "tiff_list = []    \n",
    "\n",
    "for file in os.listdir(os.path.join(naparm_path, 'PhaseMasks')):\n",
    "    if file.endswith('.tif') or file.endswith('.tiff'):\n",
    "        tiff_list.append(os.path.join(naparm_path, 'PhaseMasks', file))\n",
    "        \n",
    "\n",
    "pm = ParseMarkpoints(xml_path=xml_path, gpl_path=gpl_path)      \n",
    "mask_list = [imageio.imread(tiff) for tiff in tiff_list]\n",
    "\n"
   ]
  },
  {
   "cell_type": "code",
   "execution_count": 4,
   "metadata": {
    "scrolled": true
   },
   "outputs": [],
   "source": [
    "s = ml.load_mat_struct(points_path)\n",
    "\n",
    "points = s['points']\n",
    "\n",
    "all_x_galvo = points.GroupCentroidX\n",
    "all_y_galvo = points.GroupCentroidY\n",
    "\n",
    "x_galvo = np.unique(all_x_galvo) / 512\n",
    "y_galvo = np.unique(all_y_galvo) / 512\n",
    "\n"
   ]
  },
  {
   "cell_type": "code",
   "execution_count": 5,
   "metadata": {},
   "outputs": [],
   "source": [
    "# build the string"
   ]
  },
  {
   "cell_type": "code",
   "execution_count": null,
   "metadata": {},
   "outputs": [],
   "source": []
  },
  {
   "cell_type": "code",
   "execution_count": null,
   "metadata": {},
   "outputs": [],
   "source": []
  },
  {
   "cell_type": "code",
   "execution_count": null,
   "metadata": {},
   "outputs": [],
   "source": []
  },
  {
   "cell_type": "code",
   "execution_count": null,
   "metadata": {},
   "outputs": [],
   "source": []
  },
  {
   "cell_type": "code",
   "execution_count": null,
   "metadata": {},
   "outputs": [],
   "source": []
  }
 ],
 "metadata": {
  "kernelspec": {
   "display_name": "Python 3",
   "language": "python",
   "name": "python3"
  },
  "language_info": {
   "codemirror_mode": {
    "name": "ipython",
    "version": 3
   },
   "file_extension": ".py",
   "mimetype": "text/x-python",
   "name": "python",
   "nbconvert_exporter": "python",
   "pygments_lexer": "ipython3",
   "version": "3.6.4"
  }
 },
 "nbformat": 4,
 "nbformat_minor": 2
}
