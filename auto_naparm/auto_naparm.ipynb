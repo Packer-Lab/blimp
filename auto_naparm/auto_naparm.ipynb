{
 "cells": [
  {
   "cell_type": "code",
   "execution_count": 1,
   "metadata": {},
   "outputs": [
    {
     "name": "stderr",
     "output_type": "stream",
     "text": [
      "C:\\Program Files (x86)\\Microsoft Visual Studio\\Shared\\Anaconda3_64\\lib\\site-packages\\h5py\\__init__.py:36: FutureWarning: Conversion of the second argument of issubdtype from `float` to `np.floating` is deprecated. In future, it will be treated as `np.float64 == np.dtype(float).type`.\n",
      "  from ._conv import register_converters as _register_converters\n"
     ]
    }
   ],
   "source": [
    "import time\n",
    "import os\n",
    "import sys\n",
    "sys.path.append(r'C:\\Users\\User\\Documents\\Code\\blimp')\n",
    "from utils.parse_markpoints import ParseMarkpoints\n",
    "from utils.prairie_interface import PrairieInterface\n",
    "from utils import mat_loader as ml\n",
    "from sdk.slm_sdk import SLMsdk\n",
    "import scipy.io\n",
    "import yaml\n",
    "import numpy as np\n",
    "import imageio\n",
    "import tifffile\n",
    "import matplotlib.pyplot as plt\n",
    "from threading import Thread\n",
    "%matplotlib inline"
   ]
  },
  {
   "cell_type": "code",
   "execution_count": 2,
   "metadata": {},
   "outputs": [],
   "source": [
    "laser_power = 320"
   ]
  },
  {
   "cell_type": "code",
   "execution_count": 3,
   "metadata": {},
   "outputs": [],
   "source": [
    "# output sampling rate of naparm\n",
    "naparm_rate = 1000\n",
    "\n",
    "naparm_path = r'F:\\Data\\jrowland\\2019-03-08\\naparm\\2019-03-08_plasticSlide_NAPARM_008'\n",
    "\n",
    "with open(r'C:\\Users\\User\\Documents\\Code\\blimp\\blimp_settings.yaml', 'r') as stream:\n",
    "            yaml_dict = yaml.load(stream)\n"
   ]
  },
  {
   "cell_type": "code",
   "execution_count": 4,
   "metadata": {},
   "outputs": [],
   "source": [
    "for file in os.listdir(naparm_path):\n",
    "    if file.endswith('.xml'):\n",
    "        xml_path= os.path.join(naparm_path, file)\n",
    "    elif file.endswith('gpl'):\n",
    "        gpl_path = os.path.join(naparm_path, file)\n",
    "    elif file.endswith('Points.mat'):\n",
    "        points_path = os.path.join(naparm_path, file)\n",
    "    elif file == 'ToPV_AllTrials.dat' or file == 'SpiralsAllTrials.dat':\n",
    "        to_pv = os.path.join(naparm_path, file)\n",
    "    elif file == 'ToSLM_AllTrials.dat' or file == 'SLMAllTrials.dat':\n",
    "        to_slm = os.path.join(naparm_path, file)\n",
    "        \n",
    "        \n",
    "       \n",
    "tiff_list = []\n",
    "for file in os.listdir(os.path.join(naparm_path, 'PhaseMasks')):\n",
    "    if file.endswith('.tif') or file.endswith('.tiff'):\n",
    "        tiff_list.append(os.path.join(naparm_path, 'PhaseMasks', file))\n",
    "        \n",
    "\n",
    "mask_list = [tifffile.imread(tiff) for tiff in tiff_list]\n",
    "pm = ParseMarkpoints(xml_path=xml_path, gpl_path=gpl_path)      \n"
   ]
  },
  {
   "cell_type": "code",
   "execution_count": 5,
   "metadata": {
    "scrolled": true
   },
   "outputs": [],
   "source": [
    "s = ml.load_mat_struct(points_path)\n",
    "\n",
    "points = s['points']\n",
    "\n",
    "all_x_galvo = points.GroupCentroidX\n",
    "all_y_galvo = points.GroupCentroidY\n",
    "groupings = points.Group\n",
    "num_groups = max(groupings)\n",
    "\n",
    "galvo_x = []\n",
    "galvo_y = []\n",
    "\n",
    "\n",
    "for group in range(1,num_groups+1):\n",
    "    \n",
    "    group_idx = np.where(groupings==group)\n",
    "    \n",
    "    # xna dy galvo positions of all points in pixels\n",
    "    x_px = all_x_galvo[group_idx]\n",
    "    y_px = all_y_galvo[group_idx]\n",
    "    \n",
    "    # all elements should be the same (stolen from stack overflow)\n",
    "    assert list(x_px).count(x_px[0]) == len(x_px)\n",
    "    assert list(y_px).count(y_px[0]) == len(y_px)\n",
    "    \n",
    "    #into foxy ratio format\n",
    "    galvo_x.append(x_px[0] / 512)\n",
    "    galvo_y.append(y_px[0] / 512)\n",
    "\n",
    "assert len(galvo_x) == len(galvo_y) == len(pm.durations) == len(pm.laser_powers)\n",
    "num_groups = len(galvo_x)"
   ]
  },
  {
   "cell_type": "code",
   "execution_count": 6,
   "metadata": {},
   "outputs": [],
   "source": [
    "\n"
   ]
  },
  {
   "cell_type": "code",
   "execution_count": 7,
   "metadata": {},
   "outputs": [
    {
     "data": {
      "text/plain": [
       "10"
      ]
     },
     "execution_count": 7,
     "metadata": {},
     "output_type": "execute_result"
    }
   ],
   "source": [
    "#assumes that there is a trigger at t=0\n",
    "num_stims = len(np.where(np.diff(pv_arr) > 0)[0]) + 1\n",
    "n_repeats = num_stims / num_groups \n",
    "assert n_repeats.is_integer()\n",
    "n_repeats = int(n_repeats)"
   ]
  },
  {
   "cell_type": "code",
   "execution_count": 8,
   "metadata": {},
   "outputs": [],
   "source": [
    "mp_strings = []\n",
    "\n",
    "#currently only supporting evenly spaced groups\n",
    "inter_group_interval = slm_diff[0]\n",
    "\n",
    "spiral_size = yaml_dict['spiral_size'] / (yaml_dict['FOVsize_UM_1x'] / yaml_dict['zoom'])\n",
    "spiral_revolutions = pm.spiral_revolutions[0]\n",
    "\n",
    "for group in range(num_groups):\n",
    "    x = galvo_x[group]\n",
    "    y = galvo_y[group]\n",
    "    #duration = pm.durations[group]\n",
    "    duration = 25\n",
    "    #laser_power = pm.laser_powers[group]\n",
    "    num_spirals = pm.repetitions[group]\n",
    "    \n",
    "    mp_string = pm.build_strings(X=x,Y=y,duration=duration,laser_power=laser_power, \\\n",
    "                                 is_spiral=True, spiral_size=spiral_size, \\\n",
    "                                 spiral_revolutions=spiral_revolutions, num_spirals=num_spirals)\n",
    "\n",
    "    mp_strings.append(mp_string)\n",
    "    \n",
    "\n",
    "    \n",
    "    \n",
    "all_groups_string = pm.groups_strings(inter_group_interval=inter_group_interval, \\\n",
    "                                      group_list=mp_strings, SLM_trigger=True, n_repeats=n_repeats)"
   ]
  },
  {
   "cell_type": "code",
   "execution_count": 9,
   "metadata": {},
   "outputs": [
    {
     "data": {
      "text/plain": [
       "400"
      ]
     },
     "execution_count": 9,
     "metadata": {},
     "output_type": "execute_result"
    }
   ],
   "source": [
    "count = 0\n",
    "splitter = all_groups_string.split(' ')\n",
    "for s in splitter:\n",
    "    if s == 'Uncaging':\n",
    "        count += 1\n",
    "count"
   ]
  },
  {
   "cell_type": "code",
   "execution_count": 10,
   "metadata": {},
   "outputs": [
    {
     "data": {
      "text/plain": [
       "4"
      ]
     },
     "execution_count": 10,
     "metadata": {},
     "output_type": "execute_result"
    }
   ],
   "source": [
    "num_groups"
   ]
  },
  {
   "cell_type": "code",
   "execution_count": 11,
   "metadata": {},
   "outputs": [
    {
     "data": {
      "text/plain": [
       "10"
      ]
     },
     "execution_count": 11,
     "metadata": {},
     "output_type": "execute_result"
    }
   ],
   "source": [
    "n_repeats"
   ]
  },
  {
   "cell_type": "code",
   "execution_count": 12,
   "metadata": {},
   "outputs": [
    {
     "data": {
      "text/plain": [
       "'10'"
      ]
     },
     "execution_count": 12,
     "metadata": {},
     "output_type": "execute_result"
    }
   ],
   "source": [
    "num_spirals"
   ]
  },
  {
   "cell_type": "code",
   "execution_count": 13,
   "metadata": {},
   "outputs": [
    {
     "ename": "ZeroDivisionError",
     "evalue": "division by zero",
     "output_type": "error",
     "traceback": [
      "\u001b[1;31m---------------------------------------------------------------------------\u001b[0m",
      "\u001b[1;31mZeroDivisionError\u001b[0m                         Traceback (most recent call last)",
      "\u001b[1;32m<ipython-input-13-9e1622b385b6>\u001b[0m in \u001b[0;36m<module>\u001b[1;34m()\u001b[0m\n\u001b[1;32m----> 1\u001b[1;33m \u001b[1;36m1\u001b[0m\u001b[1;33m/\u001b[0m\u001b[1;36m0\u001b[0m\u001b[1;33m\u001b[0m\u001b[0m\n\u001b[0m",
      "\u001b[1;31mZeroDivisionError\u001b[0m: division by zero"
     ]
    }
   ],
   "source": [
    "1/0"
   ]
  },
  {
   "cell_type": "code",
   "execution_count": 14,
   "metadata": {},
   "outputs": [
    {
     "name": "stdout",
     "output_type": "stream",
     "text": [
      "SLM connection established\n",
      "First mask loaded\n"
     ]
    }
   ],
   "source": [
    "sdk = SLMsdk()\n",
    "sdk.SLM_connect()\n",
    "mask_pointers = sdk.precalculate_and_load_first(mask_list, num_repeats=n_repeats)"
   ]
  },
  {
   "cell_type": "code",
   "execution_count": 15,
   "metadata": {},
   "outputs": [
    {
     "name": "stdout",
     "output_type": "stream",
     "text": [
      "Ready to trigger\n"
     ]
    }
   ],
   "source": [
    "slm_thread = Thread(target=sdk.load_precalculated_triggered, args = [mask_pointers])\n",
    "slm_thread.start()"
   ]
  },
  {
   "cell_type": "code",
   "execution_count": 16,
   "metadata": {},
   "outputs": [
    {
     "name": "stdout",
     "output_type": "stream",
     "text": [
      "PV connection successful\n"
     ]
    }
   ],
   "source": [
    "pi = PrairieInterface()"
   ]
  },
  {
   "cell_type": "code",
   "execution_count": 17,
   "metadata": {},
   "outputs": [
    {
     "data": {
      "text/plain": [
       "True"
      ]
     },
     "execution_count": 17,
     "metadata": {},
     "output_type": "execute_result"
    },
    {
     "name": "stdout",
     "output_type": "stream",
     "text": [
      "Trigger recieved, loaded mask 1\n",
      "Trigger recieved, loaded mask 2\n",
      "Trigger recieved, loaded mask 3\n",
      "Trigger recieved, loaded mask 4\n",
      "Trigger recieved, loaded mask 5\n",
      "Trigger recieved, loaded mask 6\n",
      "Trigger recieved, loaded mask 7\n",
      "Trigger recieved, loaded mask 8\n",
      "Trigger recieved, loaded mask 9\n",
      "Trigger recieved, loaded mask 10\n",
      "Trigger recieved, loaded mask 11\n",
      "Trigger recieved, loaded mask 12\n",
      "Trigger recieved, loaded mask 13\n",
      "Trigger recieved, loaded mask 14\n",
      "Trigger recieved, loaded mask 15\n",
      "Trigger recieved, loaded mask 16\n",
      "Trigger recieved, loaded mask 17\n",
      "Trigger recieved, loaded mask 18\n",
      "Trigger recieved, loaded mask 19\n",
      "Trigger recieved, loaded mask 20\n",
      "Trigger recieved, loaded mask 21\n",
      "Trigger recieved, loaded mask 22\n",
      "Trigger recieved, loaded mask 23\n",
      "Trigger recieved, loaded mask 24\n",
      "Trigger recieved, loaded mask 25\n",
      "Trigger recieved, loaded mask 26\n",
      "Trigger recieved, loaded mask 27\n",
      "Trigger recieved, loaded mask 28\n",
      "Trigger recieved, loaded mask 29\n",
      "Trigger recieved, loaded mask 30\n",
      "Trigger recieved, loaded mask 31\n",
      "Trigger recieved, loaded mask 32\n",
      "Trigger recieved, loaded mask 33\n",
      "Trigger recieved, loaded mask 34\n",
      "Trigger recieved, loaded mask 35\n",
      "Trigger recieved, loaded mask 36\n",
      "Trigger recieved, loaded mask 37\n",
      "Trigger recieved, loaded mask 38\n",
      "Trigger recieved, loaded mask 39\n",
      "completed trigger sequence\n"
     ]
    }
   ],
   "source": [
    "\n",
    "pi.pl.SendScriptCommands(all_groups_string)\n"
   ]
  },
  {
   "cell_type": "code",
   "execution_count": null,
   "metadata": {},
   "outputs": [],
   "source": [
    "all_groups_string"
   ]
  },
  {
   "cell_type": "code",
   "execution_count": null,
   "metadata": {},
   "outputs": [],
   "source": [
    "from pyfiglet import Figlet\n",
    "f = Figlet(font='invita')\n",
    "print (f.renderText('AUTO NAPARM'))"
   ]
  },
  {
   "cell_type": "code",
   "execution_count": null,
   "metadata": {},
   "outputs": [],
   "source": [
    "all_groups_string"
   ]
  },
  {
   "cell_type": "code",
   "execution_count": null,
   "metadata": {},
   "outputs": [],
   "source": [
    "class auto_naparm:\n",
    "    \n",
    "    def __init__(self, naparm_path):\n",
    "        self.naparm_path = naparm_path\n",
    "        self.yaml_dict = yaml_dict\n",
    "        \n",
    "        \n",
    "\n",
    "        \n",
    "        \n",
    "    \n",
    "\n",
    "\n",
    "\n",
    "\n",
    "\n",
    "\n",
    "def get_yaml():\n",
    "    with open(r'C:\\Users\\User\\Documents\\Code\\blimp\\blimp_settings.yaml', 'r') as stream:\n",
    "                self.yaml_dict = yaml.load(stream)\n",
    "            \n",
    "               "
   ]
  },
  {
   "cell_type": "code",
   "execution_count": null,
   "metadata": {},
   "outputs": [],
   "source": [
    "class P:\n",
    "\n",
    "    def __init__(self,x):\n",
    "        self.x = x\n",
    "\n",
    "    @property\n",
    "    def x(self):\n",
    "        return self.__x\n",
    "\n",
    "    @x.setter\n",
    "    def x(self, x):\n",
    "        if x < 0:\n",
    "            self.__x = 0\n",
    "        elif x > 1000:\n",
    "            self.__x = 1000\n",
    "        else:\n",
    "            self.__x = x"
   ]
  },
  {
   "cell_type": "code",
   "execution_count": null,
   "metadata": {},
   "outputs": [],
   "source": []
  },
  {
   "cell_type": "code",
   "execution_count": null,
   "metadata": {},
   "outputs": [],
   "source": []
  },
  {
   "cell_type": "code",
   "execution_count": null,
   "metadata": {},
   "outputs": [],
   "source": []
  },
  {
   "cell_type": "code",
   "execution_count": null,
   "metadata": {},
   "outputs": [],
   "source": []
  },
  {
   "cell_type": "code",
   "execution_count": null,
   "metadata": {},
   "outputs": [],
   "source": []
  },
  {
   "cell_type": "code",
   "execution_count": null,
   "metadata": {},
   "outputs": [],
   "source": []
  },
  {
   "cell_type": "code",
   "execution_count": null,
   "metadata": {},
   "outputs": [],
   "source": []
  },
  {
   "cell_type": "code",
   "execution_count": null,
   "metadata": {},
   "outputs": [],
   "source": []
  },
  {
   "cell_type": "code",
   "execution_count": null,
   "metadata": {},
   "outputs": [],
   "source": []
  },
  {
   "cell_type": "code",
   "execution_count": null,
   "metadata": {},
   "outputs": [],
   "source": [
    "\n"
   ]
  },
  {
   "cell_type": "code",
   "execution_count": null,
   "metadata": {},
   "outputs": [],
   "source": []
  },
  {
   "cell_type": "code",
   "execution_count": null,
   "metadata": {},
   "outputs": [],
   "source": []
  },
  {
   "cell_type": "code",
   "execution_count": null,
   "metadata": {},
   "outputs": [],
   "source": []
  },
  {
   "cell_type": "code",
   "execution_count": null,
   "metadata": {},
   "outputs": [],
   "source": []
  },
  {
   "cell_type": "code",
   "execution_count": null,
   "metadata": {},
   "outputs": [],
   "source": []
  },
  {
   "cell_type": "code",
   "execution_count": null,
   "metadata": {},
   "outputs": [],
   "source": []
  },
  {
   "cell_type": "code",
   "execution_count": null,
   "metadata": {},
   "outputs": [],
   "source": []
  },
  {
   "cell_type": "code",
   "execution_count": null,
   "metadata": {},
   "outputs": [],
   "source": []
  },
  {
   "cell_type": "code",
   "execution_count": null,
   "metadata": {},
   "outputs": [],
   "source": []
  },
  {
   "cell_type": "code",
   "execution_count": null,
   "metadata": {},
   "outputs": [],
   "source": []
  }
 ],
 "metadata": {
  "kernelspec": {
   "display_name": "Python 3",
   "language": "python",
   "name": "python3"
  },
  "language_info": {
   "codemirror_mode": {
    "name": "ipython",
    "version": 3
   },
   "file_extension": ".py",
   "mimetype": "text/x-python",
   "name": "python",
   "nbconvert_exporter": "python",
   "pygments_lexer": "ipython3",
   "version": "3.6.4"
  }
 },
 "nbformat": 4,
 "nbformat_minor": 2
}
