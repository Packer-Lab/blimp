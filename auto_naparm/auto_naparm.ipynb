{
 "cells": [
  {
   "cell_type": "code",
   "execution_count": 22,
   "metadata": {},
   "outputs": [],
   "source": [
    "import time\n",
    "import os\n",
    "import sys\n",
    "sys.path.append(r'/home/jamesrowland/Documents/Code/blimp')\n",
    "from utils.parse_markpoints import ParseMarkpoints\n",
    "from utils import mat_loader as ml\n",
    "import scipy.io\n",
    "import yaml\n",
    "import numpy as np\n",
    "import imageio\n",
    "import matplotlib.pyplot as plt\n",
    "%matplotlib inline"
   ]
  },
  {
   "cell_type": "code",
   "execution_count": 23,
   "metadata": {},
   "outputs": [],
   "source": [
    "# output sampling rate of naparm\n",
    "naparm_rate = 1000\n",
    "\n",
    "naparm_path = r'/home/jamesrowland/Desktop/2019-02-04_J007_NAPARM_001'\n",
    "\n",
    "\n",
    "with open('/home/jamesrowland/Documents/Code/blimp/blimp_settings.yaml', 'r') as stream:\n",
    "            yaml_dict = yaml.load(stream)\n"
   ]
  },
  {
   "cell_type": "code",
   "execution_count": 3,
   "metadata": {},
   "outputs": [],
   "source": [
    "for file in os.listdir(naparm_path):\n",
    "    if file.endswith('.xml'):\n",
    "        xml_path= os.path.join(naparm_path, file)\n",
    "    elif file.endswith('gpl'):\n",
    "        gpl_path = os.path.join(naparm_path, file)\n",
    "    elif file.endswith('Points.mat'):\n",
    "        points_path = os.path.join(naparm_path, file)\n",
    "    elif file == 'ToPV_AllTrials.dat':\n",
    "        to_pv = os.path.join(naparm_path, file)\n",
    "    elif file == 'ToSLM_AllTrials.dat':\n",
    "        to_slm = os.path.join(naparm_path, file)\n",
    "        \n",
    "        \n",
    "       \n",
    "tiff_list = []\n",
    "for file in os.listdir(os.path.join(naparm_path, 'PhaseMasks')):\n",
    "    if file.endswith('.tif') or file.endswith('.tiff'):\n",
    "        tiff_list.append(os.path.join(naparm_path, 'PhaseMasks', file))\n",
    "        \n",
    "\n",
    "mask_list = [imageio.imread(tiff) for tiff in tiff_list]\n",
    "pm = ParseMarkpoints(xml_path=xml_path, gpl_path=gpl_path)      \n",
    "\n"
   ]
  },
  {
   "cell_type": "code",
   "execution_count": 11,
   "metadata": {
    "scrolled": true
   },
   "outputs": [],
   "source": [
    "s = ml.load_mat_struct(points_path)\n",
    "\n",
    "points = s['points']\n",
    "\n",
    "all_x_galvo = points.GroupCentroidX\n",
    "all_y_galvo = points.GroupCentroidY\n",
    "\n",
    "groupings = points.Group\n",
    "num_groups = max(groupings)\n",
    "\n",
    "galvo_x = []\n",
    "galvo_y = []\n",
    "\n",
    "\n",
    "for group in range(1,num_groups+1):\n",
    "    \n",
    "    group_idx = np.where(groupings==group)\n",
    "    \n",
    "    # xna dy galvo positions of all points in pixels\n",
    "    x_px = all_x_galvo[group_idx]\n",
    "    y_px = all_y_galvo[group_idx]\n",
    "    \n",
    "    # all elements should be the same (stolen from stack overflow)\n",
    "    assert list(x_px).count(x_px[0]) == len(x_px)\n",
    "    assert list(y_px).count(y_px[0]) == len(y_px)\n",
    "    \n",
    "    #into foxy ratio format\n",
    "    galvo_x.append(x_px[0] / 512)\n",
    "    galvo_y.append(y_px[0] / 512)\n",
    "\n",
    "assert len(galvo_x) == len(galvo_y) == len(pm.durations) == len(pm.laser_powers)\n"
   ]
  },
  {
   "cell_type": "code",
   "execution_count": 5,
   "metadata": {},
   "outputs": [],
   "source": [
    "pv_arr = np.fromfile(to_pv, dtype=float)\n",
    "slm_arr = np.fromfile(to_slm, dtype=float)\n",
    "\n",
    "#time between each SLM trigger\n",
    "slm_diff = np.diff(np.where(np.diff(slm_arr) > 0))[0] / naparm_rate * 1000 #ms \n",
    "\n",
    "#the time between each PV trigger\n",
    "pv_diff = np.diff(np.where(np.diff(pv_arr) > 0))[0] / naparm_rate * 1000  #ms\n",
    "\n"
   ]
  },
  {
   "cell_type": "code",
   "execution_count": 38,
   "metadata": {},
   "outputs": [],
   "source": [
    "mp_strings = []\n",
    "\n",
    "#currently only supporting evenly spaced groups\n",
    "inter_group_interval = slm_diff[0]\n",
    "\n",
    "spiral_size = yaml_dict['spiral_size'] / (yaml_dict['FOVsize_UM_1x'] / yaml_dict['zoom'])\n",
    "spiral_revolutions = pm.spiral_revolutions[0]\n",
    "\n",
    "for group in range(num_groups):\n",
    "    x = galvo_x[group]\n",
    "    y = galvo_y[group]\n",
    "    duration = pm.durations[group]\n",
    "    laser_power = pm.laser_powers[group]\n",
    "    num_spirals = pm.repetitions[group]\n",
    "    \n",
    "    mp_string = pm.build_strings(X=x,Y=y,duration=duration,laser_power=laser_power, \\\n",
    "                                 is_spiral=True, spiral_size=spiral_size, \\\n",
    "                                 spiral_revolutions=spiral_revolutions, num_spirals=num_spirals)\n",
    "\n",
    "    mp_strings.append(mp_string)\n",
    "    \n",
    "    \n",
    "all_groups_string = pm.groups_strings(inter_group_interval=inter_group_interval, \\\n",
    "                                      group_list=mp_strings, SLM_trigger=True)"
   ]
  },
  {
   "cell_type": "code",
   "execution_count": 45,
   "metadata": {},
   "outputs": [
    {
     "name": "stdout",
     "output_type": "stream",
     "text": [
      "   _____   __     __) ______) ___  \n",
      "  (, /  | (, /   /   (, /   /(,  ) \n",
      "    /---|   /   /      /   /    /  \n",
      " ) /    |_ /   /    ) /   /    /   \n",
      "(_/       (___(_   (_/   (___ /    \n",
      "                                   \n",
      "   __     __) _____   _____    _____    _____    __     __) \n",
      "  (, /|  /   (, /  | (, /   ) (, /  |  (, /   ) (, /|  /|   \n",
      "    / | /      /---|  _/__ /    /---|    /__ /    / | / |   \n",
      " ) /  |/    ) /    |_ /      ) /    |_) /   \\_ ) /  |/  |_  \n",
      "(_/   '    (_/     ) /      (_/      (_/      (_/   '       \n",
      "                  (_/                                       \n",
      "\n"
     ]
    }
   ],
   "source": [
    "from pyfiglet import Figlet\n",
    "f = Figlet(font='invita')\n",
    "print (f.renderText('AUTO NAPARM'))"
   ]
  }
 ],
 "metadata": {
  "kernelspec": {
   "display_name": "Python 3",
   "language": "python",
   "name": "python3"
  },
  "language_info": {
   "codemirror_mode": {
    "name": "ipython",
    "version": 3
   },
   "file_extension": ".py",
   "mimetype": "text/x-python",
   "name": "python",
   "nbconvert_exporter": "python",
   "pygments_lexer": "ipython3",
   "version": "3.6.3"
  }
 },
 "nbformat": 4,
 "nbformat_minor": 2
}
