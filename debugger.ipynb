{
 "cells": [
  {
   "cell_type": "code",
   "execution_count": 1,
   "metadata": {},
   "outputs": [],
   "source": [
    "from blimp import Blimp\n",
    "import numpy as np"
   ]
  },
  {
   "cell_type": "code",
   "execution_count": 2,
   "metadata": {},
   "outputs": [
    {
     "name": "stdout",
     "output_type": "stream",
     "text": [
      "Initialising matlab engine\n",
      "matlab engine initialised\n"
     ]
    }
   ],
   "source": [
    "blimp = Blimp()"
   ]
  },
  {
   "cell_type": "code",
   "execution_count": 3,
   "metadata": {
    "collapsed": true
   },
   "outputs": [],
   "source": [
    "all_points = blimp.all_points"
   ]
  },
  {
   "cell_type": "code",
   "execution_count": 4,
   "metadata": {},
   "outputs": [
    {
     "name": "stdout",
     "output_type": "stream",
     "text": [
      "h\n",
      "X\n",
      "Y\n",
      "Z\n",
      "Zum\n",
      "OffsetX\n",
      "OffsetY\n",
      "Idx\n",
      "Img\n",
      "Counter\n",
      "Weight\n",
      "Selected\n",
      "Group\n",
      "offset_x\n",
      "offset_y\n",
      "centroid_x\n",
      "centroid_y\n",
      "galvo_positions\n",
      "numGroups\n",
      "points_array\n",
      "PhaseMasks\n",
      "TransformedSLMTargets\n"
     ]
    }
   ],
   "source": [
    "for k, v, in all_points.items():\n",
    "    print(k)"
   ]
  },
  {
   "cell_type": "code",
   "execution_count": 5,
   "metadata": {},
   "outputs": [
    {
     "name": "stdout",
     "output_type": "stream",
     "text": [
      "-mp 0.052734375 0.32421875 2000 Uncaging 377.0568037975617 true 0.05582433941198363 5 0.12 0.052734375 0.32421875 1 Trigger 0 48.88 0.05859375 0.662109375 2000 Uncaging 377.0568037975617 true 0.05582433941198363 5 0.12 0.05859375 0.662109375 1 Trigger 0 48.88 0.859375 0.279296875 2000 Uncaging 377.0568037975617 true 0.05582433941198363 5 0.12 0.859375 0.279296875 1 Trigger 0 48.88 0.798828125 0.984375 2000 Uncaging 377.0568037975617 true 0.05582433941198363 5 0.12 0.798828125 0.984375 1 Trigger 0 48.88 0.41015625 0.736328125 2000 Uncaging 377.0568037975617 true 0.05582433941198363 5 \n"
     ]
    }
   ],
   "source": [
    "print(blimp.experiment.all_groups_mp)"
   ]
  },
  {
   "cell_type": "code",
   "execution_count": 9,
   "metadata": {},
   "outputs": [
    {
     "data": {
      "text/plain": [
       "[1, 2, 3, 4, 5, 1, 2, 3, 4, 5, 1, 2, 3, 4, 5, 1, 2, 3, 4, 5, 1, 2, 3, 4, 5]"
      ]
     },
     "execution_count": 9,
     "metadata": {},
     "output_type": "execute_result"
    }
   ],
   "source": [
    "precalc_arrays = [1,2,3,4,5]\n",
    "num_repeats = 5\n",
    "\n",
    "\n",
    "repeat_arrays = precalc_arrays *  num_repeats\n",
    "repeat_arrays"
   ]
  },
  {
   "cell_type": "code",
   "execution_count": null,
   "metadata": {
    "collapsed": true
   },
   "outputs": [],
   "source": [
    "\n",
    "for i, arr in enumerate(repeat_arrays):\n",
    "\n",
    "    assert okay, 'Failed to write frames to board'\n",
    " \n",
    "    #load the first frame without triggering\n",
    "    if i == 0:\n",
    "        print('loading first mask')\n",
    "        okay = self.Write_transient_frames_func(self.sdk, c_int(1), arr, c_bool(1), c_bool(0), c_uint(0))\n",
    "        print('ready to trigger remaining masks')\n",
    "        \n",
    "    #trigger every other frame\n",
    "    else:\n",
    "        okay = self.Write_transient_frames_func(self.sdk, c_int(1), arr, c_bool(1), c_bool(1), c_uint(0))\n",
    "        print('loaded mask {}'.format(i))\n",
    "\n"
   ]
  },
  {
   "cell_type": "code",
   "execution_count": null,
   "metadata": {
    "collapsed": true
   },
   "outputs": [],
   "source": []
  },
  {
   "cell_type": "code",
   "execution_count": null,
   "metadata": {
    "collapsed": true
   },
   "outputs": [],
   "source": []
  },
  {
   "cell_type": "code",
   "execution_count": null,
   "metadata": {
    "collapsed": true
   },
   "outputs": [],
   "source": []
  },
  {
   "cell_type": "code",
   "execution_count": null,
   "metadata": {
    "collapsed": true
   },
   "outputs": [],
   "source": []
  },
  {
   "cell_type": "code",
   "execution_count": null,
   "metadata": {
    "collapsed": true
   },
   "outputs": [],
   "source": []
  },
  {
   "cell_type": "code",
   "execution_count": null,
   "metadata": {
    "collapsed": true
   },
   "outputs": [],
   "source": []
  },
  {
   "cell_type": "code",
   "execution_count": null,
   "metadata": {
    "collapsed": true
   },
   "outputs": [],
   "source": []
  },
  {
   "cell_type": "code",
   "execution_count": null,
   "metadata": {
    "collapsed": true
   },
   "outputs": [],
   "source": []
  },
  {
   "cell_type": "code",
   "execution_count": null,
   "metadata": {},
   "outputs": [],
   "source": []
  },
  {
   "cell_type": "code",
   "execution_count": null,
   "metadata": {
    "collapsed": true
   },
   "outputs": [],
   "source": []
  },
  {
   "cell_type": "code",
   "execution_count": null,
   "metadata": {
    "collapsed": true
   },
   "outputs": [],
   "source": []
  },
  {
   "cell_type": "code",
   "execution_count": null,
   "metadata": {
    "collapsed": true
   },
   "outputs": [],
   "source": []
  },
  {
   "cell_type": "code",
   "execution_count": null,
   "metadata": {
    "collapsed": true
   },
   "outputs": [],
   "source": []
  },
  {
   "cell_type": "code",
   "execution_count": null,
   "metadata": {
    "collapsed": true
   },
   "outputs": [],
   "source": []
  },
  {
   "cell_type": "code",
   "execution_count": null,
   "metadata": {
    "collapsed": true
   },
   "outputs": [],
   "source": []
  }
 ],
 "metadata": {
  "kernelspec": {
   "display_name": "Python 3",
   "language": "python",
   "name": "python3"
  },
  "language_info": {
   "codemirror_mode": {
    "name": "ipython",
    "version": 3
   },
   "file_extension": ".py",
   "mimetype": "text/x-python",
   "name": "python",
   "nbconvert_exporter": "python",
   "pygments_lexer": "ipython3",
   "version": "3.6.3"
  }
 },
 "nbformat": 4,
 "nbformat_minor": 2
}
