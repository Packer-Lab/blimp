{
 "cells": [
  {
   "cell_type": "code",
   "execution_count": null,
   "metadata": {},
   "outputs": [],
   "source": [
    "#ipython magic\n",
    "%reset -f\n",
    "%matplotlib notebook\n",
    "%load_ext autoreload\n",
    "%autoreload 2"
   ]
  },
  {
   "cell_type": "code",
   "execution_count": null,
   "metadata": {
    "scrolled": true
   },
   "outputs": [],
   "source": [
    "import matplotlib.pyplot as plt\n",
    "import numpy as np\n",
    "import time\n",
    "import os\n",
    "import imageio\n",
    "import tifffile\n",
    "from threading import Thread\n",
    "from sdk.slm_sdk import SLMsdk\n",
    "from utils.parse_markpoints import ParseMarkpoints\n",
    "import blimp\n",
    "import random\n",
    "import re\n"
   ]
  },
  {
   "cell_type": "code",
   "execution_count": 7,
   "metadata": {},
   "outputs": [
    {
     "name": "stdout",
     "output_type": "stream",
     "text": [
      "PV connection successful\n",
      "SLM connection established\n",
      "starting matlab engine\n",
      "matlab engine initialised\n",
      "Building percent files\n",
      "mw power is 120\n",
      "pv power  is 483.06225198089095\n",
      "mw power is 60\n",
      "pv power  is 394.3653477421261\n",
      "mw power is 30\n",
      "pv power  is 324.3657797592042\n",
      "Subset files built successfully\n",
      "group size is 50\n",
      "mw power is 300\n",
      "PV power is 738.9803178582476\n",
      "3 Phase mask tiffs found\n",
      "Easy group built\n",
      "\n",
      "\n",
      "DID YOU TYPE IN THE ANIMALS NAME INTO THE GUI????????????????\n"
     ]
    }
   ],
   "source": [
    "b = blimp.Blimp()\n",
    "self = b.experiment"
   ]
  },
  {
   "cell_type": "code",
   "execution_count": 4,
   "metadata": {},
   "outputs": [
    {
     "ename": "NameError",
     "evalue": "name 'b' is not defined",
     "output_type": "error",
     "traceback": [
      "\u001b[1;31m---------------------------------------------------------------------------\u001b[0m",
      "\u001b[1;31mNameError\u001b[0m                                 Traceback (most recent call last)",
      "\u001b[1;32m<ipython-input-4-89e6c98d9288>\u001b[0m in \u001b[0;36m<module>\u001b[1;34m()\u001b[0m\n\u001b[1;32m----> 1\u001b[1;33m \u001b[0mb\u001b[0m\u001b[1;33m\u001b[0m\u001b[0m\n\u001b[0m",
      "\u001b[1;31mNameError\u001b[0m: name 'b' is not defined"
     ]
    }
   ],
   "source": [
    "b\n"
   ]
  },
  {
   "cell_type": "code",
   "execution_count": null,
   "metadata": {},
   "outputs": [],
   "source": [
    "1/0"
   ]
  },
  {
   "cell_type": "code",
   "execution_count": null,
   "metadata": {},
   "outputs": [],
   "source": [
    "for s in self.markpoints_strings:\n",
    "    print(s.split(' ')[5])"
   ]
  },
  {
   "cell_type": "code",
   "execution_count": null,
   "metadata": {},
   "outputs": [],
   "source": [
    "self.subset_paths"
   ]
  },
  {
   "cell_type": "code",
   "execution_count": null,
   "metadata": {},
   "outputs": [],
   "source": [
    "trial_subset"
   ]
  },
  {
   "cell_type": "code",
   "execution_count": null,
   "metadata": {},
   "outputs": [],
   "source": [
    "powers = []\n",
    "for i in range(10000):\n",
    "\n",
    "    trial_subset = random.choice(self.subset_choose)\n",
    "    rand_idx = random.choice(np.where(np.array(self.subset_sizes)==trial_subset)[0])\n",
    "    subset_run = self.subset_sizes[rand_idx]\n",
    "    trial_path = self.subset_paths[rand_idx]\n",
    "    trial_string = self.markpoints_strings[rand_idx]\n",
    "    mask = self.tiffs[rand_idx]\n",
    "    powers.append(trial_string.split(' ')[5])\n",
    "#     print(trial_string.split(' ')[5])\n",
    "#     print(trial_subset)\n",
    "#     print(trial_path)"
   ]
  },
  {
   "cell_type": "code",
   "execution_count": null,
   "metadata": {},
   "outputs": [],
   "source": [
    "# 324.3657797592042',\n",
    "#  '340.9170079055049',\n",
    "#  '340.9170079055049',\n",
    "#  '306.03261980574723\n",
    "powers = np.array(powers)\n",
    "\n",
    "print(len(np.where(powers=='324.3657797592042')[0]))\n",
    "print(len(np.where(powers=='340.9170079055049')[0]))\n",
    "print(len(np.where(powers=='306.03261980574723')[0]))\n"
   ]
  },
  {
   "cell_type": "code",
   "execution_count": null,
   "metadata": {},
   "outputs": [],
   "source": [
    "\n",
    "idxs = []\n",
    "for i in range(1000):\n",
    "    trial_subset = random.choice(self.subset_choose)\n",
    "\n",
    "    trial_paths = []\n",
    "\n",
    "    for s in self.subset_paths:\n",
    "        if int(s.split('\\\\')[-1].split('_')[0]) == trial_subset:\n",
    "            trial_paths.append(s)\n",
    "\n",
    "    # choose a file from the paths\n",
    "    trial_path = random.choice(trial_paths)\n",
    "\n",
    "    idx = self.subset_paths.index(trial_path)\n",
    "    \n",
    "    idxs.append(idx)\n",
    "\n",
    "\n",
    "\n",
    "\n",
    "# trial_path = self.subset_paths[rand_idx]\n",
    "# trial_string = self.markpoints_strings[rand_idx]\n",
    "# mask = self.tiffs[rand_idx]\n",
    "# trial_paths\n",
    "\n"
   ]
  },
  {
   "cell_type": "code",
   "execution_count": null,
   "metadata": {},
   "outputs": [],
   "source": [
    "for i in "
   ]
  },
  {
   "cell_type": "code",
   "execution_count": null,
   "metadata": {},
   "outputs": [],
   "source": [
    "trial_subset = random.choice(self.subset_choose)\n",
    "trial_subset"
   ]
  },
  {
   "cell_type": "code",
   "execution_count": null,
   "metadata": {},
   "outputs": [],
   "source": [
    "subset_idx =  random.choice(np.where(np.array(self.subset_sizes)==trial_subset)[0])"
   ]
  },
  {
   "cell_type": "code",
   "execution_count": null,
   "metadata": {},
   "outputs": [],
   "source": [
    "self.subset_sizes"
   ]
  },
  {
   "cell_type": "code",
   "execution_count": null,
   "metadata": {},
   "outputs": [],
   "source": []
  },
  {
   "cell_type": "code",
   "execution_count": null,
   "metadata": {},
   "outputs": [],
   "source": []
  },
  {
   "cell_type": "code",
   "execution_count": null,
   "metadata": {},
   "outputs": [],
   "source": []
  },
  {
   "cell_type": "code",
   "execution_count": null,
   "metadata": {},
   "outputs": [],
   "source": []
  },
  {
   "cell_type": "code",
   "execution_count": null,
   "metadata": {},
   "outputs": [],
   "source": []
  },
  {
   "cell_type": "code",
   "execution_count": null,
   "metadata": {},
   "outputs": [],
   "source": [
    "bbb1/0"
   ]
  },
  {
   "cell_type": "code",
   "execution_count": null,
   "metadata": {},
   "outputs": [],
   "source": [
    "pv = []\n",
    "mw = np.linspace(0,350,1000) / 1000\n",
    "for i in mw:\n",
    "    pv.append(b.mw2pv(i))"
   ]
  },
  {
   "cell_type": "code",
   "execution_count": null,
   "metadata": {},
   "outputs": [],
   "source": [
    "plt.plot(mw,pv)"
   ]
  },
  {
   "cell_type": "code",
   "execution_count": null,
   "metadata": {},
   "outputs": [],
   "source": [
    "b.mw2pv(350)"
   ]
  },
  {
   "cell_type": "code",
   "execution_count": null,
   "metadata": {},
   "outputs": [],
   "source": [
    "b.update_test()"
   ]
  },
  {
   "cell_type": "code",
   "execution_count": null,
   "metadata": {},
   "outputs": [],
   "source": [
    "pm = ParseMarkpoints()"
   ]
  },
  {
   "cell_type": "code",
   "execution_count": null,
   "metadata": {},
   "outputs": [],
   "source": []
  },
  {
   "cell_type": "code",
   "execution_count": null,
   "metadata": {},
   "outputs": [],
   "source": []
  },
  {
   "cell_type": "code",
   "execution_count": null,
   "metadata": {},
   "outputs": [],
   "source": []
  },
  {
   "cell_type": "code",
   "execution_count": null,
   "metadata": {},
   "outputs": [],
   "source": [
    "sdk = SLMsdk()"
   ]
  },
  {
   "cell_type": "code",
   "execution_count": null,
   "metadata": {},
   "outputs": [],
   "source": [
    "sdk.SLM_connect()"
   ]
  },
  {
   "cell_type": "code",
   "execution_count": null,
   "metadata": {},
   "outputs": [],
   "source": [
    "test_mask_path = r\"C:\\Users\\User\\Documents\\Code\\SLM\\Test masks\\8bit_tiffs\"\n",
    "tiff_list = []\n",
    "\n",
    "for file in os.listdir(test_mask_path):\n",
    "    if file.endswith('.tif') or file.endswith('.tiff'):\n",
    "        tiff_list.append(os.path.join(test_mask_path, file))\n",
    "\n",
    "mask_list = [tifffile.imread(mask) for mask in tiff_list]\n",
    "    "
   ]
  },
  {
   "cell_type": "code",
   "execution_count": null,
   "metadata": {},
   "outputs": [],
   "source": [
    "repeat_arrays = sdk.precalculate_masks(mask_list)"
   ]
  },
  {
   "cell_type": "code",
   "execution_count": null,
   "metadata": {},
   "outputs": [],
   "source": []
  },
  {
   "cell_type": "code",
   "execution_count": null,
   "metadata": {},
   "outputs": [],
   "source": []
  },
  {
   "cell_type": "code",
   "execution_count": null,
   "metadata": {},
   "outputs": [],
   "source": []
  },
  {
   "cell_type": "code",
   "execution_count": null,
   "metadata": {},
   "outputs": [],
   "source": []
  },
  {
   "cell_type": "code",
   "execution_count": null,
   "metadata": {},
   "outputs": [],
   "source": []
  },
  {
   "cell_type": "code",
   "execution_count": null,
   "metadata": {},
   "outputs": [],
   "source": []
  },
  {
   "cell_type": "code",
   "execution_count": null,
   "metadata": {},
   "outputs": [],
   "source": []
  },
  {
   "cell_type": "code",
   "execution_count": null,
   "metadata": {},
   "outputs": [],
   "source": []
  },
  {
   "cell_type": "code",
   "execution_count": null,
   "metadata": {},
   "outputs": [],
   "source": []
  },
  {
   "cell_type": "code",
   "execution_count": null,
   "metadata": {},
   "outputs": [],
   "source": []
  },
  {
   "cell_type": "code",
   "execution_count": null,
   "metadata": {},
   "outputs": [],
   "source": []
  },
  {
   "cell_type": "code",
   "execution_count": null,
   "metadata": {},
   "outputs": [],
   "source": []
  },
  {
   "cell_type": "code",
   "execution_count": null,
   "metadata": {},
   "outputs": [],
   "source": []
  }
 ],
 "metadata": {
  "kernelspec": {
   "display_name": "Python 3",
   "language": "python",
   "name": "python3"
  }
 },
 "nbformat": 4,
 "nbformat_minor": 2
}
