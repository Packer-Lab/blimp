{
 "cells": [
  {
   "cell_type": "code",
   "execution_count": 1,
   "metadata": {},
   "outputs": [],
   "source": [
    "from ctypes import *\n",
    "import imageio\n",
    "import numpy as np\n",
    "import matplotlib.pyplot as plt\n",
    "from slm_sdk import SLMsdk \n"
   ]
  },
  {
   "cell_type": "code",
   "execution_count": 2,
   "metadata": {},
   "outputs": [],
   "source": [
    "cdll.LoadLibrary(\"Blink_SDK_C.dll\")\n",
    "slm_lib = CDLL(\"Blink_SDK_C\")\n",
    "\n",
    "LUT = 'slm_h2_encrypt_noPhaseWrap.txt'\n",
    "blank_image = \"512white.bmp\""
   ]
  },
  {
   "cell_type": "code",
   "execution_count": 3,
   "metadata": {},
   "outputs": [],
   "source": [
    "test_mask = np.random.rand(512,512)\n",
    "test_mask = test_mask / np.max(test_mask, 0)\n",
    "test_mask = imageio.imread(r\"C:\\Program Files\\Meadowlark Optics\\Blink OverDrive Plus\\SDK\\ramp_0_512.bmp\")\n"
   ]
  },
  {
   "cell_type": "code",
   "execution_count": 4,
   "metadata": {},
   "outputs": [
    {
     "name": "stdout",
     "output_type": "stream",
     "text": [
      "SLM connection established\n"
     ]
    }
   ],
   "source": [
    "sdk = SLMsdk()\n",
    "sdk.SLM_connect()"
   ]
  },
  {
   "cell_type": "code",
   "execution_count": 6,
   "metadata": {},
   "outputs": [],
   "source": [
    "tst = r\"C:\\Users\\User\\Documents\\Code\\SLM\\Test masks\\Bitmaps\\10spotsTight_LPphase.bmp\"\n",
    "neuron = r\"C:\\Users\\User\\Documents\\Code\\SLM\\Test masks\\Bitmaps\\neuron.bmp\"\n",
    "\n",
    "sdk.load_mask(neuron,wait_for_trigger=False)\n",
    "#sdk.load_mask(tst,wait_for_trigger=True)"
   ]
  },
  {
   "cell_type": "code",
   "execution_count": null,
   "metadata": {},
   "outputs": [],
   "source": []
  },
  {
   "cell_type": "code",
   "execution_count": null,
   "metadata": {},
   "outputs": [],
   "source": [
    "test_mask = imageio.imread(p)\n"
   ]
  },
  {
   "cell_type": "code",
   "execution_count": null,
   "metadata": {},
   "outputs": [],
   "source": []
  },
  {
   "cell_type": "code",
   "execution_count": null,
   "metadata": {},
   "outputs": [],
   "source": [
    "Calculate_transient_frames_func = slm_lib.Calculate_transient_frames\n",
    "\n",
    "#Calculate_transient_frames_func.argtypes = (c_ubyte, c_uint)\n",
    "Calculate_transient_frames_func.restype = c_bool\n",
    "n_bytes = c_uint(0)\n",
    "\n",
    "ctf_result = Calculate_transient_frames_func(test_mask.ctypes.data_as(POINTER(c_ubyte)), n_bytes)\n",
    "\n"
   ]
  },
  {
   "cell_type": "code",
   "execution_count": null,
   "metadata": {},
   "outputs": [],
   "source": [
    "test_mask.ctypes.data_as(POINTER(c_ubyte))"
   ]
  },
  {
   "cell_type": "code",
   "execution_count": null,
   "metadata": {},
   "outputs": [],
   "source": [
    "bytes(10)"
   ]
  }
 ],
 "metadata": {
  "kernelspec": {
   "display_name": "Python 3",
   "language": "python",
   "name": "python3"
  },
  "language_info": {
   "codemirror_mode": {
    "name": "ipython",
    "version": 3
   },
   "file_extension": ".py",
   "mimetype": "text/x-python",
   "name": "python",
   "nbconvert_exporter": "python",
   "pygments_lexer": "ipython3",
   "version": "3.6.5"
  }
 },
 "nbformat": 4,
 "nbformat_minor": 2
}
