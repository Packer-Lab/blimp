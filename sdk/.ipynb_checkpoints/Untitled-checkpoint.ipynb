{
 "cells": [
  {
   "cell_type": "code",
   "execution_count": 17,
   "metadata": {},
   "outputs": [],
   "source": [
    "from SLM_sdk import SLM_sdk\n",
    "from time import sleep, time\n",
    "from os import listdir, path\n"
   ]
  },
  {
   "cell_type": "code",
   "execution_count": 2,
   "metadata": {},
   "outputs": [
    {
     "name": "stdout",
     "output_type": "stream",
     "text": [
      "SLM connection established\n"
     ]
    }
   ],
   "source": [
    "sdk = SLM_sdk()\n",
    "sdk.SLM_connect()"
   ]
  },
  {
   "cell_type": "code",
   "execution_count": 7,
   "metadata": {},
   "outputs": [
    {
     "data": {
      "text/plain": [
       "['001_8A_01_3x_GS3D.bmp',\n",
       " '002_Period8_vstripe_Img128.bmp',\n",
       " '003_256A_01_3x_GS3D.bmp',\n",
       " '004_Period4_hstripe_Img128.bmp',\n",
       " '005_Period8_checks_Img128.bmp',\n",
       " '10spotsTight_LPphase.bmp',\n",
       " 'FullField.bmp',\n",
       " 'neuron.bmp']"
      ]
     },
     "execution_count": 7,
     "metadata": {},
     "output_type": "execute_result"
    }
   ],
   "source": [
    "bmp_path = r'C:\\Users\\User\\Documents\\Code\\SLM\\Test masks\\Bitmaps'\n",
    "\n",
    "listdir(bmp_path)"
   ]
  },
  {
   "cell_type": "code",
   "execution_count": 14,
   "metadata": {},
   "outputs": [],
   "source": [
    "sleep_time = 0.1\n",
    "\n",
    "for i in range(100):\n",
    "    for bmp in listdir(bmp_path):\n",
    "        sdk.load_mask(path.join(bmp_path,bmp))\n",
    "        sleep(sleep_time)\n",
    "    \n",
    "    "
   ]
  },
  {
   "cell_type": "code",
   "execution_count": 18,
   "metadata": {},
   "outputs": [
    {
     "data": {
      "text/plain": [
       "<function time.time>"
      ]
     },
     "execution_count": 18,
     "metadata": {},
     "output_type": "execute_result"
    }
   ],
   "source": [
    "time"
   ]
  },
  {
   "cell_type": "code",
   "execution_count": 12,
   "metadata": {},
   "outputs": [
    {
     "name": "stdout",
     "output_type": "stream",
     "text": [
      "Disconnected from SLM and powered down\n"
     ]
    }
   ],
   "source": [
    "sdk.SLM_disconnect()"
   ]
  },
  {
   "cell_type": "code",
   "execution_count": null,
   "metadata": {},
   "outputs": [],
   "source": [
    "neuron = r'C:\\Users\\User\\Documents\\Code\\SLM\\Test masks\\Bitmaps\\neuron.bmp'\n",
    "tst = r\"C:\\Users\\User\\Documents\\Code\\SLM\\Test masks\\Bitmaps\\004_Period4_hstripe_Img128.bmp\""
   ]
  }
 ],
 "metadata": {
  "kernelspec": {
   "display_name": "Python 3",
   "language": "python",
   "name": "python3"
  },
  "language_info": {
   "codemirror_mode": {
    "name": "ipython",
    "version": 3
   },
   "file_extension": ".py",
   "mimetype": "text/x-python",
   "name": "python",
   "nbconvert_exporter": "python",
   "pygments_lexer": "ipython3",
   "version": "3.6.5"
  }
 },
 "nbformat": 4,
 "nbformat_minor": 2
}
