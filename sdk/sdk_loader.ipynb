{
 "cells": [
  {
   "cell_type": "code",
   "execution_count": 1,
   "metadata": {},
   "outputs": [],
   "source": [
    "from SLM_sdk import SLM_sdk\n",
    "import time\n",
    "from os import listdir, path\n"
   ]
  },
  {
   "cell_type": "code",
   "execution_count": 2,
   "metadata": {},
   "outputs": [
    {
     "name": "stdout",
     "output_type": "stream",
     "text": [
      "SLM connection established\n"
     ]
    }
   ],
   "source": [
    "sdk = SLM_sdk()\n",
    "sdk.SLM_connect()"
   ]
  },
  {
   "cell_type": "code",
   "execution_count": 3,
   "metadata": {},
   "outputs": [],
   "source": [
    "bmp_path = r'C:\\Users\\User\\Documents\\Code\\SLM\\Test masks\\Bitmaps'\n"
   ]
  },
  {
   "cell_type": "code",
   "execution_count": 5,
   "metadata": {},
   "outputs": [],
   "source": [
    "t1 = time.time()\n",
    "sleep_time = 0.014\n",
    "\n",
    "for i in range(3):\n",
    "    for bmp in listdir(bmp_path):\n",
    "        sdk.load_mask(path.join(bmp_path,bmp))\n",
    "        time.sleep(sleep_time)\n",
    "t2 = time.time()    \n"
   ]
  },
  {
   "cell_type": "code",
   "execution_count": 6,
   "metadata": {},
   "outputs": [],
   "source": [
    "sdk.load_mask(r\"C:\\Users\\User\\Documents\\Code\\SLM\\Test masks\\Bitmaps\\neuron.bmp\")"
   ]
  },
  {
   "cell_type": "code",
   "execution_count": 7,
   "metadata": {},
   "outputs": [
    {
     "name": "stdout",
     "output_type": "stream",
     "text": [
      "Disconnected from SLM and powered down\n"
     ]
    }
   ],
   "source": [
    "sdk.SLM_disconnect()"
   ]
  },
  {
   "cell_type": "code",
   "execution_count": 8,
   "metadata": {},
   "outputs": [],
   "source": [
    "neuron = r'C:\\Users\\User\\Documents\\Code\\SLM\\Test masks\\Bitmaps\\neuron.bmp'\n",
    "tst = r\"C:\\Users\\User\\Documents\\Code\\SLM\\Test masks\\Bitmaps\\004_Period4_hstripe_Img128.bmp\""
   ]
  },
  {
   "cell_type": "code",
   "execution_count": null,
   "metadata": {},
   "outputs": [],
   "source": []
  }
 ],
 "metadata": {
  "kernelspec": {
   "display_name": "Python 3",
   "language": "python",
   "name": "python3"
  },
  "language_info": {
   "codemirror_mode": {
    "name": "ipython",
    "version": 3
   },
   "file_extension": ".py",
   "mimetype": "text/x-python",
   "name": "python",
   "nbconvert_exporter": "python",
   "pygments_lexer": "ipython3",
   "version": "3.6.5"
  }
 },
 "nbformat": 4,
 "nbformat_minor": 2
}
