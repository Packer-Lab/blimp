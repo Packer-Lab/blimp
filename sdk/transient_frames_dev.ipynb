{
 "cells": [
  {
   "cell_type": "code",
   "execution_count": 1,
   "metadata": {},
   "outputs": [],
   "source": [
    "import warnings\n",
    "from slm_sdk import SLMsdk\n",
    "warnings.filterwarnings(\"ignore\")"
   ]
  },
  {
   "cell_type": "code",
   "execution_count": 2,
   "metadata": {},
   "outputs": [
    {
     "name": "stdout",
     "output_type": "stream",
     "text": [
      "SLM connection established\n",
      "5 tiffs found\n",
      "ready to trigger\n",
      "loaded mask 0\n",
      "loaded mask 1\n",
      "loaded mask 2\n",
      "loaded mask 3\n",
      "loaded mask 4\n",
      "ready to trigger\n",
      "loaded mask 0\n",
      "loaded mask 1\n",
      "loaded mask 2\n",
      "loaded mask 3\n",
      "loaded mask 4\n",
      "ready to trigger\n",
      "loaded mask 0\n",
      "loaded mask 1\n",
      "loaded mask 2\n",
      "loaded mask 3\n",
      "loaded mask 4\n"
     ]
    }
   ],
   "source": [
    "sdk = SLMsdk()\n",
    "sdk.SLM_connect()\n",
    "\n",
    "f_path = r'C:\\Users\\User\\Documents\\Code\\SLM\\Test masks\\8bit_tiffs'\n",
    "sdk.precalculate_then_triggered_write(f_path, num_repeats = 3)\n",
    "\n"
   ]
  },
  {
   "cell_type": "code",
   "execution_count": 3,
   "metadata": {},
   "outputs": [
    {
     "name": "stdout",
     "output_type": "stream",
     "text": [
      "Disconnected from SLM and powered down\n"
     ]
    }
   ],
   "source": [
    "sdk.SLM_disconnect()"
   ]
  },
  {
   "cell_type": "code",
   "execution_count": null,
   "metadata": {},
   "outputs": [],
   "source": []
  }
 ],
 "metadata": {
  "kernelspec": {
   "display_name": "Python 3",
   "language": "python",
   "name": "python3"
  },
  "language_info": {
   "codemirror_mode": {
    "name": "ipython",
    "version": 3
   },
   "file_extension": ".py",
   "mimetype": "text/x-python",
   "name": "python",
   "nbconvert_exporter": "python",
   "pygments_lexer": "ipython3",
   "version": "3.6.5"
  }
 },
 "nbformat": 4,
 "nbformat_minor": 2
}
