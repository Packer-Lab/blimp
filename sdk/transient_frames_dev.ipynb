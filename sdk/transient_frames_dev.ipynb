{
 "cells": [
  {
   "cell_type": "code",
   "execution_count": 1,
   "metadata": {},
   "outputs": [],
   "source": [
    "from ctypes import *\n",
    "import imageio\n",
    "import numpy as np\n",
    "import matplotlib.pyplot as plt\n"
   ]
  },
  {
   "cell_type": "code",
   "execution_count": 2,
   "metadata": {},
   "outputs": [],
   "source": [
    "cdll.LoadLibrary(\"Blink_SDK_C.dll\")\n",
    "slm_lib = CDLL(\"Blink_SDK_C\")"
   ]
  },
  {
   "cell_type": "code",
   "execution_count": 3,
   "metadata": {},
   "outputs": [],
   "source": [
    "LUT = 'slm_h2_encrypt_noPhaseWrap.txt'\n",
    "blank_image = \"512white.bmp\"\n",
    "\n",
    "LUT = bytes(LUT, 'utf-8')\n",
    "lut_file = c_char_p(LUT)\n",
    "\n",
    "create_SDK_func = slm_lib.Create_SDK\n",
    "create_SDK_func.argtypes = (c_uint, c_uint, POINTER(c_uint), POINTER(c_bool), c_bool, c_bool, c_bool, c_uint, c_char_p)\n",
    "# in python 3 the integer returned by create_SDK_func is bigger than 32 bit, so had to reassign the integer type to longlong\n",
    "create_SDK_func.restype = c_longlong\n",
    "\n",
    "# Basic parameters for calling Create_SDK\n",
    "slm_resolution = c_uint(512)\n",
    "# currently only supports 8 bit depth\n",
    "bit_depth = c_uint(8)\n",
    "num_boards_found = c_uint(0)\n",
    "constructed_okay = c_bool(0)\n",
    "is_nematic_type = c_bool(1)\n",
    "RAM_write_enable = c_bool(1)\n",
    "use_GPU = c_bool(1)\n",
    "max_transients = c_uint(20)\n",
    "true_frames = c_int(3)\n",
    "\n",
    "# Call the Create_SDK constructor\n",
    "# Returns a handle that's passed to subsequent SDK calls\n",
    "sdk = create_SDK_func(bit_depth, slm_resolution, byref(num_boards_found), \n",
    "                     byref(constructed_okay), is_nematic_type, \n",
    "                     RAM_write_enable, use_GPU, max_transients,lut_file)\n"
   ]
  },
  {
   "cell_type": "code",
   "execution_count": 12,
   "metadata": {},
   "outputs": [],
   "source": [
    "test_mask = np.ones((512,512), dtype= 'uint8')\n",
    "n_bytes = c_uint(100)"
   ]
  },
  {
   "cell_type": "code",
   "execution_count": 16,
   "metadata": {},
   "outputs": [
    {
     "data": {
      "text/plain": [
       "False"
      ]
     },
     "execution_count": 16,
     "metadata": {},
     "output_type": "execute_result"
    }
   ],
   "source": [
    "#bool Calculate_transient_frames(Blink_SDK *sdk, const unsigned char* target_phase, unsigned int* byte_count);\n",
    "\n",
    "Calculate_transient_frames_func = slm_lib.Calculate_transient_frames\n",
    "\n",
    "Calculate_transient_frames_func.argtypes = (c_longlong, POINTER(c_ubyte), POINTER(c_uint))\n",
    "Calculate_transient_frames_func.restype = c_bool\n",
    "\n",
    "ctf_result = Calculate_transient_frames_func(sdk,test_mask.ctypes.data_as(POINTER(c_ubyte)), byref(n_bytes))\n",
    "ctf_result"
   ]
  }
 ],
 "metadata": {
  "kernelspec": {
   "display_name": "Python 3",
   "language": "python",
   "name": "python3"
  },
  "language_info": {
   "codemirror_mode": {
    "name": "ipython",
    "version": 3
   },
   "file_extension": ".py",
   "mimetype": "text/x-python",
   "name": "python",
   "nbconvert_exporter": "python",
   "pygments_lexer": "ipython3",
   "version": "3.7.0"
  }
 },
 "nbformat": 4,
 "nbformat_minor": 2
}
