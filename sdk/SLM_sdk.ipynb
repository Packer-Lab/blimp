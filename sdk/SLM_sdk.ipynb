{
 "cells": [
  {
   "cell_type": "code",
   "execution_count": 4,
   "metadata": {},
   "outputs": [],
   "source": [
    "# Example usage of Blink_SDK_C.dll\n",
    "# Meadowlark Optics Spatial Light Modulators\n",
    "# March 2 2015\n",
    "\n",
    "import os\n",
    "from ctypes import *\n",
    "from scipy import misc\n",
    "from time import sleep\n",
    "import sys\n",
    "\n"
   ]
  },
  {
   "cell_type": "code",
   "execution_count": 5,
   "metadata": {},
   "outputs": [
    {
     "name": "stderr",
     "output_type": "stream",
     "text": [
      "C:\\Users\\User\\Anaconda3\\lib\\site-packages\\ipykernel_launcher.py:3: DeprecationWarning: `imread` is deprecated!\n",
      "`imread` is deprecated in SciPy 1.0.0, and will be removed in 1.2.0.\n",
      "Use ``imageio.imread`` instead.\n",
      "  This is separate from the ipykernel package so we can avoid doing imports until\n",
      "C:\\Users\\User\\Anaconda3\\lib\\site-packages\\ipykernel_launcher.py:9: DeprecationWarning: `imread` is deprecated!\n",
      "`imread` is deprecated in SciPy 1.0.0, and will be removed in 1.2.0.\n",
      "Use ``imageio.imread`` instead.\n",
      "  if __name__ == '__main__':\n",
      "C:\\Users\\User\\Anaconda3\\lib\\site-packages\\ipykernel_launcher.py:10: DeprecationWarning: `imread` is deprecated!\n",
      "`imread` is deprecated in SciPy 1.0.0, and will be removed in 1.2.0.\n",
      "Use ``imageio.imread`` instead.\n",
      "  # Remove the CWD from sys.path while we load stuff.\n"
     ]
    }
   ],
   "source": [
    "# Blank calibration image\n",
    "blank_image = r'C:\\Users\\User\\Desktop\\PhaseMasks_8bit_BOSS\\PhaseMasks_8bit_BOSS\\UCLsmall_LPphase16.tiff'\n",
    "cal_image = misc.imread(blank_image, flatten = 0)\n",
    "\n",
    "neuron_phase = r'C:\\Users\\User\\Desktop\\PhaseMasks_8bit_BOSS\\PhaseMasks_8bit_BOSS\\20150424_Neuron_LPphase.tiff'\n",
    "tst_phase = r'C:\\Users\\User\\Desktop\\PhaseMasks_8bit_BOSS\\PhaseMasks_8bit_BOSS\\10spotsTight_LPphase.bmp'\n",
    "\n",
    "# Arrays for image data\n",
    "neuron = misc.imread(neuron_phase, flatten = 0)\n",
    "tst = misc.imread(tst_phase, flatten = 0)"
   ]
  },
  {
   "cell_type": "code",
   "execution_count": 11,
   "metadata": {
    "scrolled": false
   },
   "outputs": [
    {
     "name": "stdout",
     "output_type": "stream",
     "text": [
      "Blink SDK was successfully constructed\n",
      "Found 1 SLM controller(s)\n"
     ]
    },
    {
     "ename": "OSError",
     "evalue": "exception: access violation reading 0xFFFFFFFFF0D253F0",
     "output_type": "error",
     "traceback": [
      "\u001b[1;31m---------------------------------------------------------------------------\u001b[0m",
      "\u001b[1;31mOSError\u001b[0m                                   Traceback (most recent call last)",
      "\u001b[1;32m<ipython-input-11-f3f1f65b6b86>\u001b[0m in \u001b[0;36m<module>\u001b[1;34m()\u001b[0m\n\u001b[0;32m     68\u001b[0m \u001b[1;33m\u001b[0m\u001b[0m\n\u001b[0;32m     69\u001b[0m \u001b[1;31m# Set the basic SLM parameters\u001b[0m\u001b[1;33m\u001b[0m\u001b[1;33m\u001b[0m\u001b[0m\n\u001b[1;32m---> 70\u001b[1;33m \u001b[0mSet_true_frames_func\u001b[0m\u001b[1;33m(\u001b[0m\u001b[0msdk\u001b[0m\u001b[1;33m,\u001b[0m \u001b[0mtrue_frames\u001b[0m\u001b[1;33m)\u001b[0m\u001b[1;33m\u001b[0m\u001b[0m\n\u001b[0m\u001b[0;32m     71\u001b[0m \u001b[1;31m# A blank calibration image must be loaded to the SLM controller\u001b[0m\u001b[1;33m\u001b[0m\u001b[1;33m\u001b[0m\u001b[0m\n\u001b[0;32m     72\u001b[0m \u001b[0mWrite_cal_buffer_func\u001b[0m\u001b[1;33m(\u001b[0m\u001b[0msdk\u001b[0m\u001b[1;33m,\u001b[0m \u001b[1;36m1\u001b[0m\u001b[1;33m,\u001b[0m \u001b[0mcal_image\u001b[0m\u001b[1;33m.\u001b[0m\u001b[0mctypes\u001b[0m\u001b[1;33m.\u001b[0m\u001b[0mdata_as\u001b[0m\u001b[1;33m(\u001b[0m\u001b[0mPOINTER\u001b[0m\u001b[1;33m(\u001b[0m\u001b[0mc_ubyte\u001b[0m\u001b[1;33m)\u001b[0m\u001b[1;33m)\u001b[0m\u001b[1;33m)\u001b[0m\u001b[1;33m\u001b[0m\u001b[0m\n",
      "\u001b[1;31mOSError\u001b[0m: exception: access violation reading 0xFFFFFFFFF0D253F0"
     ]
    }
   ],
   "source": [
    "# Load the DLL\n",
    "# Blink_SDK_C.dll, Blink_SDK.dll, FreeImage.dll and wdapi1021.dll\n",
    "# should all be located in the same directory as the program referencing the\n",
    "# library\n",
    "cdll.LoadLibrary(\"Blink_SDK_C\")\n",
    "slm_lib = CDLL(\"Blink_SDK_C\")\n",
    "\n",
    "# Basic parameters for calling Create_SDK\n",
    "bit_depth = c_uint(8)\n",
    "slm_resolution = c_uint(512)\n",
    "num_boards_found = c_uint(0)\n",
    "constructed_okay = c_bool(0)\n",
    "is_nematic_type = c_bool(1)\n",
    "RAM_write_enable = c_bool(1)\n",
    "use_GPU = c_bool(0)\n",
    "max_transients = c_uint(10)\n",
    "\n",
    "\n",
    "LUT = bytes('slm_h2_encrypt.txt', 'utf-8')\n",
    "#LUT = 'slm_h2_encrypt.txt'\n",
    "# OverDrive Plus parameters\n",
    "lut_file = c_char_p(LUT)\n",
    "\n",
    "# Basic SLM parameters\n",
    "true_frames = c_int(3)\n",
    "\n",
    "\n",
    "create_SDK_func = slm_lib.Create_SDK\n",
    "create_SDK_func.argtypes = (c_uint, c_uint, POINTER(c_uint), POINTER(c_bool), c_bool, c_bool, c_bool, c_uint, c_char_p)\n",
    "\n",
    "Set_true_frames_func = slm_lib.Set_true_frames\n",
    "Set_true_frames_func.argtypes = (c_int, c_int)\n",
    "\n",
    "Write_cal_buffer_func = slm_lib.Write_cal_buffer\n",
    "Write_cal_buffer_func.argtypes = (c_int, c_int, POINTER(c_ubyte))\n",
    "\n",
    "Load_linear_LUT_func = slm_lib.Load_linear_LUT\n",
    "Load_linear_LUT_func.argtypes = (c_int, c_int)\n",
    "\n",
    "SLM_power_func =  slm_lib.SLM_power\n",
    "SLM_power_func.argtypes = (c_int, c_bool)\n",
    "\n",
    "Write_overdrive_image_func = slm_lib.Write_overdrive_image\n",
    "Write_overdrive_image_func.argtypes = (c_int, c_int, POINTER(c_ubyte), c_bool, c_bool)\n",
    "\n",
    "Delete_SDK_func = slm_lib.Delete_SDK\n",
    "Delete_SDK_func.argtype = (c_int)\n",
    "\n",
    "# Call the Create_SDK constructor\n",
    "# Returns a handle that's passed to subsequent SDK calls\n",
    "sdk = create_SDK_func(bit_depth, slm_resolution, byref(num_boards_found), \n",
    "                         byref(constructed_okay), is_nematic_type, \n",
    "                         RAM_write_enable, use_GPU, max_transients, lut_file)\n",
    "\n",
    "\n",
    "# if not constructed_okay:\n",
    "#     print(\"Blink SDK was not successfully constructed\")\n",
    "#     # Python ctypes assumes the return value is always int\n",
    "#     # We need to tell it the return type by setting restype\n",
    "#     slm_lib.Get_last_error_message.restype = c_char_p\n",
    "#     print(slm_lib.Get_last_error_message(sdk))\n",
    "\n",
    "#     # Always call Delete_SDK before exiting\n",
    "#     slm_lib.Delete_SDK(sdk)\n",
    "# else:\n",
    "print(\"Blink SDK was successfully constructed\")\n",
    "print(\"Found %s SLM controller(s)\" % num_boards_found.value)\n",
    "\n",
    "# Set the basic SLM parameters\n",
    "Set_true_frames_func(sdk, true_frames)\n",
    "# A blank calibration image must be loaded to the SLM controller\n",
    "Write_cal_buffer_func(sdk, 1, cal_image.ctypes.data_as(POINTER(c_ubyte)))\n",
    "# A linear LUT must be loaded to the controller for OverDrive Plus\n",
    "Load_linear_LUT_func(sdk, 1)\n",
    "\n",
    "# Turn the SLM power on\n",
    "SLM_power_func(sdk, c_bool(1))\n",
    "\n",
    "# Loop between our ramp images\n",
    "for i in range(0, 1000):\n",
    "    Write_overdrive_image_func(sdk, 1, neuron.ctypes.data_as(POINTER(c_ubyte)), 0, 0)\n",
    "    sleep(2.5) # This is in seconds\n",
    "    Write_overdrive_image_func(sdk, 1, tst.ctypes.data_as(POINTER(c_ubyte)), 0, 0)\n",
    "    sleep(2.5) # This is in seconds\n",
    "    print('running')\n",
    "\n",
    "# Always call Delete_SDK before exiting\n",
    "Delete_SDK_func(sdk)"
   ]
  },
  {
   "cell_type": "code",
   "execution_count": null,
   "metadata": {},
   "outputs": [],
   "source": [
    "LUT = bytes('slm_h2_encrypt.txt', 'mbcs')\n",
    "\n",
    "# OverDrive Plus parameters\n",
    "lut_file = c_char_p(LUT)\n"
   ]
  },
  {
   "cell_type": "code",
   "execution_count": 23,
   "metadata": {},
   "outputs": [
    {
     "data": {
      "text/plain": [
       "<_FuncPtr object at 0x000001FDAF757A08>"
      ]
     },
     "execution_count": 23,
     "metadata": {},
     "output_type": "execute_result"
    }
   ],
   "source": [
    "Write_overdrive_image_func"
   ]
  },
  {
   "cell_type": "code",
   "execution_count": 62,
   "metadata": {},
   "outputs": [
    {
     "data": {
      "text/plain": [
       "c_char_p(2869433306816)"
      ]
     },
     "execution_count": 62,
     "metadata": {},
     "output_type": "execute_result"
    }
   ],
   "source": [
    "s = c_char_p()\n",
    "s.value = LUT\n",
    "s"
   ]
  }
 ],
 "metadata": {
  "kernelspec": {
   "display_name": "Python 3",
   "language": "python",
   "name": "python3"
  },
  "language_info": {
   "codemirror_mode": {
    "name": "ipython",
    "version": 3
   },
   "file_extension": ".py",
   "mimetype": "text/x-python",
   "name": "python",
   "nbconvert_exporter": "python",
   "pygments_lexer": "ipython3",
   "version": "3.6.5"
  }
 },
 "nbformat": 4,
 "nbformat_minor": 2
}
